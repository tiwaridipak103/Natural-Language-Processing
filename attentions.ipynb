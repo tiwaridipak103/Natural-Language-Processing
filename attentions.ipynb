{
 "cells": [
  {
   "cell_type": "markdown",
   "metadata": {
    "id": "M806Siv5I6d_"
   },
   "source": [
    "# <font color='red'>**Sequence to sequence implementation**</font>"
   ]
  },
  {
   "cell_type": "markdown",
   "metadata": {
    "id": "yMlqRKiGI0q3"
   },
   "source": [
    "**There will be some functions that start with the word \"grader\" ex: grader_check_encoder(), grader_check_attention(), grader_onestepdecoder() etc, you should not change those function definition.<br><br>Every Grader function has to return True.**\n",
    "\n",
    "**Note 1:**  There are many blogs on the attention mechanisum which might be misleading you,\n",
    " so do read the references completly and after that only please check the internet.\n",
    " The best things is to read the research papers and try to implement it on your own. \n",
    "\n",
    "**Note 2:** To complete this assignment, the reference that are mentioned will be enough.\n",
    "\n",
    "**Note 3:** If you are starting this assignment, you might have completed minimum of 20 assignment.\n",
    " If  you are still not able to implement this algorithm you might have rushed in the previous assignments \n",
    "with out learning much and didn't spend your time productively."
   ]
  },
  {
   "cell_type": "markdown",
   "metadata": {
    "id": "DP2q8ddSJAVh"
   },
   "source": [
    "## Task -1: Simple Encoder and Decoder\n",
    "Implement simple Encoder-Decoder model"
   ]
  },
  {
   "cell_type": "code",
   "execution_count": null,
   "metadata": {
    "colab": {
     "base_uri": "https://localhost:8080/"
    },
    "id": "DuGayz2Hs6Lj",
    "outputId": "88c142ee-e9d5-4ef0-d7c8-1343fc5f18c1"
   },
   "outputs": [
    {
     "name": "stdout",
     "output_type": "stream",
     "text": [
      "--2021-02-14 14:11:46--  https://www.dropbox.com/s/ddkmtqz01jc024u/glove.6B.100d.txt\n",
      "Resolving www.dropbox.com (www.dropbox.com)... 162.125.80.18, 2620:100:6019:18::a27d:412\n",
      "Connecting to www.dropbox.com (www.dropbox.com)|162.125.80.18|:443... connected.\n",
      "HTTP request sent, awaiting response... 301 Moved Permanently\n",
      "Location: /s/raw/ddkmtqz01jc024u/glove.6B.100d.txt [following]\n",
      "--2021-02-14 14:11:47--  https://www.dropbox.com/s/raw/ddkmtqz01jc024u/glove.6B.100d.txt\n",
      "Reusing existing connection to www.dropbox.com:443.\n",
      "HTTP request sent, awaiting response... 302 Found\n",
      "Location: https://ucd2c5a942616d812b9bea13d5c8.dl.dropboxusercontent.com/cd/0/inline/BI6w5lie82Rq53DbLP9WHCkm7CgdPk0shcCHplGHzmyZX_SCdk-M33FX57UKTabj6TYlRShHlySGKTJo3iAWhD3s2LbWldgSZ8UyjiI8zTD11HUKHh9aUSbVGWdLPcrOQqo/file# [following]\n",
      "--2021-02-14 14:11:48--  https://ucd2c5a942616d812b9bea13d5c8.dl.dropboxusercontent.com/cd/0/inline/BI6w5lie82Rq53DbLP9WHCkm7CgdPk0shcCHplGHzmyZX_SCdk-M33FX57UKTabj6TYlRShHlySGKTJo3iAWhD3s2LbWldgSZ8UyjiI8zTD11HUKHh9aUSbVGWdLPcrOQqo/file\n",
      "Resolving ucd2c5a942616d812b9bea13d5c8.dl.dropboxusercontent.com (ucd2c5a942616d812b9bea13d5c8.dl.dropboxusercontent.com)... 162.125.4.15, 2620:100:6019:15::a27d:40f\n",
      "Connecting to ucd2c5a942616d812b9bea13d5c8.dl.dropboxusercontent.com (ucd2c5a942616d812b9bea13d5c8.dl.dropboxusercontent.com)|162.125.4.15|:443... connected.\n",
      "HTTP request sent, awaiting response... 200 OK\n",
      "Length: 347116733 (331M) [text/plain]\n",
      "Saving to: ‘glove.6B.100d.txt’\n",
      "\n",
      "glove.6B.100d.txt   100%[===================>] 331.04M  52.5MB/s    in 6.4s    \n",
      "\n",
      "2021-02-14 14:11:55 (51.8 MB/s) - ‘glove.6B.100d.txt’ saved [347116733/347116733]\n",
      "\n"
     ]
    }
   ],
   "source": [
    "!wget https://www.dropbox.com/s/ddkmtqz01jc024u/glove.6B.100d.txt"
   ]
  },
  {
   "cell_type": "code",
   "execution_count": null,
   "metadata": {
    "id": "n6v0dmIxi7bL"
   },
   "outputs": [],
   "source": [
    "!wget http://www.manythings.org/anki/ita-eng.zip\n",
    "!unzip ita-eng.zip"
   ]
  },
  {
   "cell_type": "code",
   "execution_count": 4,
   "metadata": {
    "id": "jS5cDzzks98H"
   },
   "outputs": [],
   "source": [
    "import matplotlib.pyplot as plt\n",
    "%matplotlib inline\n",
    "# import seaborn as sns\n",
    "import pandas as pd\n",
    "import re\n",
    "import tensorflow as tf\n",
    "from tensorflow.keras.layers import Embedding, LSTM, Dense\n",
    "from tensorflow.keras.models import Model\n",
    "from tensorflow.keras.preprocessing.text import Tokenizer\n",
    "from tensorflow.keras.preprocessing.sequence import pad_sequences\n",
    "import numpy as np"
   ]
  },
  {
   "cell_type": "code",
   "execution_count": 6,
   "metadata": {
    "colab": {
     "base_uri": "https://localhost:8080/",
     "height": 221
    },
    "id": "54iQJdV2tAj_",
    "outputId": "af9066b2-e95c-4b1a-9d1e-3e1cc0799457"
   },
   "outputs": [
    {
     "name": "stdout",
     "output_type": "stream",
     "text": [
      "(343813, 2)\n"
     ]
    },
    {
     "data": {
      "text/html": [
       "<div>\n",
       "<style scoped>\n",
       "    .dataframe tbody tr th:only-of-type {\n",
       "        vertical-align: middle;\n",
       "    }\n",
       "\n",
       "    .dataframe tbody tr th {\n",
       "        vertical-align: top;\n",
       "    }\n",
       "\n",
       "    .dataframe thead th {\n",
       "        text-align: right;\n",
       "    }\n",
       "</style>\n",
       "<table border=\"1\" class=\"dataframe\">\n",
       "  <thead>\n",
       "    <tr style=\"text-align: right;\">\n",
       "      <th></th>\n",
       "      <th>english</th>\n",
       "      <th>italian</th>\n",
       "    </tr>\n",
       "  </thead>\n",
       "  <tbody>\n",
       "    <tr>\n",
       "      <th>0</th>\n",
       "      <td>Hi.</td>\n",
       "      <td>Ciao!</td>\n",
       "    </tr>\n",
       "    <tr>\n",
       "      <th>1</th>\n",
       "      <td>Run!</td>\n",
       "      <td>Corri!</td>\n",
       "    </tr>\n",
       "    <tr>\n",
       "      <th>2</th>\n",
       "      <td>Run!</td>\n",
       "      <td>Corra!</td>\n",
       "    </tr>\n",
       "    <tr>\n",
       "      <th>3</th>\n",
       "      <td>Run!</td>\n",
       "      <td>Correte!</td>\n",
       "    </tr>\n",
       "    <tr>\n",
       "      <th>4</th>\n",
       "      <td>Who?</td>\n",
       "      <td>Chi?</td>\n",
       "    </tr>\n",
       "  </tbody>\n",
       "</table>\n",
       "</div>"
      ],
      "text/plain": [
       "  english   italian\n",
       "0     Hi.     Ciao!\n",
       "1    Run!    Corri!\n",
       "2    Run!    Corra!\n",
       "3    Run!  Correte!\n",
       "4    Who?      Chi?"
      ]
     },
     "execution_count": 6,
     "metadata": {
      "tags": []
     },
     "output_type": "execute_result"
    }
   ],
   "source": [
    "with open('ita.txt', 'r', encoding=\"utf8\") as f:\n",
    "    eng=[]\n",
    "    ita=[]\n",
    "    for i in f.readlines():\n",
    "        eng.append(i.split(\"\\t\")[0])\n",
    "        ita.append(i.split(\"\\t\")[1])\n",
    "data = pd.DataFrame(data=list(zip(eng, ita)), columns=['english','italian'])\n",
    "print(data.shape)\n",
    "data.head()"
   ]
  },
  {
   "cell_type": "code",
   "execution_count": 7,
   "metadata": {
    "colab": {
     "base_uri": "https://localhost:8080/",
     "height": 204
    },
    "id": "CtDo-TQBtFM3",
    "outputId": "37bb6555-dad3-4af8-8ddb-4eecc9dbcf45"
   },
   "outputs": [
    {
     "data": {
      "text/html": [
       "<div>\n",
       "<style scoped>\n",
       "    .dataframe tbody tr th:only-of-type {\n",
       "        vertical-align: middle;\n",
       "    }\n",
       "\n",
       "    .dataframe tbody tr th {\n",
       "        vertical-align: top;\n",
       "    }\n",
       "\n",
       "    .dataframe thead th {\n",
       "        text-align: right;\n",
       "    }\n",
       "</style>\n",
       "<table border=\"1\" class=\"dataframe\">\n",
       "  <thead>\n",
       "    <tr style=\"text-align: right;\">\n",
       "      <th></th>\n",
       "      <th>english</th>\n",
       "      <th>italian</th>\n",
       "    </tr>\n",
       "  </thead>\n",
       "  <tbody>\n",
       "    <tr>\n",
       "      <th>0</th>\n",
       "      <td>hi</td>\n",
       "      <td>ciao</td>\n",
       "    </tr>\n",
       "    <tr>\n",
       "      <th>1</th>\n",
       "      <td>run</td>\n",
       "      <td>corri</td>\n",
       "    </tr>\n",
       "    <tr>\n",
       "      <th>2</th>\n",
       "      <td>run</td>\n",
       "      <td>corra</td>\n",
       "    </tr>\n",
       "    <tr>\n",
       "      <th>3</th>\n",
       "      <td>run</td>\n",
       "      <td>correte</td>\n",
       "    </tr>\n",
       "    <tr>\n",
       "      <th>4</th>\n",
       "      <td>who</td>\n",
       "      <td>chi</td>\n",
       "    </tr>\n",
       "  </tbody>\n",
       "</table>\n",
       "</div>"
      ],
      "text/plain": [
       "  english  italian\n",
       "0      hi     ciao\n",
       "1     run    corri\n",
       "2     run    corra\n",
       "3     run  correte\n",
       "4     who      chi"
      ]
     },
     "execution_count": 7,
     "metadata": {
      "tags": []
     },
     "output_type": "execute_result"
    }
   ],
   "source": [
    "def decontractions(phrase):\n",
    "    \"\"\"decontracted takes text and convert contractions into natural form.\n",
    "     ref: https://stackoverflow.com/questions/19790188/expanding-english-language-contractions-in-python/47091490#47091490\"\"\"\n",
    "    # specific\n",
    "    phrase = re.sub(r\"won\\'t\", \"will not\", phrase)\n",
    "    phrase = re.sub(r\"can\\'t\", \"can not\", phrase)\n",
    "    phrase = re.sub(r\"won\\’t\", \"will not\", phrase)\n",
    "    phrase = re.sub(r\"can\\’t\", \"can not\", phrase)\n",
    "\n",
    "    # general\n",
    "    phrase = re.sub(r\"n\\'t\", \" not\", phrase)\n",
    "    phrase = re.sub(r\"\\'re\", \" are\", phrase)\n",
    "    phrase = re.sub(r\"\\'s\", \" is\", phrase)\n",
    "    phrase = re.sub(r\"\\'d\", \" would\", phrase)\n",
    "    phrase = re.sub(r\"\\'ll\", \" will\", phrase)\n",
    "    phrase = re.sub(r\"\\'t\", \" not\", phrase)\n",
    "    phrase = re.sub(r\"\\'ve\", \" have\", phrase)\n",
    "    phrase = re.sub(r\"\\'m\", \" am\", phrase)\n",
    "\n",
    "    phrase = re.sub(r\"n\\’t\", \" not\", phrase)\n",
    "    phrase = re.sub(r\"\\’re\", \" are\", phrase)\n",
    "    phrase = re.sub(r\"\\’s\", \" is\", phrase)\n",
    "    phrase = re.sub(r\"\\’d\", \" would\", phrase)\n",
    "    phrase = re.sub(r\"\\’ll\", \" will\", phrase)\n",
    "    phrase = re.sub(r\"\\’t\", \" not\", phrase)\n",
    "    phrase = re.sub(r\"\\’ve\", \" have\", phrase)\n",
    "    phrase = re.sub(r\"\\’m\", \" am\", phrase)\n",
    "\n",
    "    return phrase\n",
    "\n",
    "def preprocess(text):\n",
    "    # convert all the text into lower letters\n",
    "    # use this function to remove the contractions: https://gist.github.com/anandborad/d410a49a493b56dace4f814ab5325bbd\n",
    "    # remove all the spacial characters: except space ' '\n",
    "    text = text.lower()\n",
    "    text = decontractions(text)\n",
    "    text = re.sub('[^A-Za-z0-9 ]+', '', text)\n",
    "    return text\n",
    "\n",
    "def preprocess_ita(text):\n",
    "    # convert all the text into lower letters\n",
    "    # remove the words betweent brakets ()\n",
    "    # remove these characters: {'$', ')', '?', '\"', '’', '.',  '°', '!', ';', '/', \"'\", '€', '%', ':', ',', '('}\n",
    "    # replace these spl characters with space: '\\u200b', '\\xa0', '-', '/'\n",
    "    # we have found these characters after observing the data points, feel free to explore more and see if you can do find more\n",
    "    # you are free to do more proprocessing\n",
    "    # note that the model will learn better with better preprocessed data \n",
    "    \n",
    "    text = text.lower()\n",
    "    text = decontractions(text)\n",
    "    text = re.sub('[$)\\?\"’.°!;\\'€%:,(/]', '', text)\n",
    "    text = re.sub('\\u200b', ' ', text)\n",
    "    text = re.sub('\\xa0', ' ', text)\n",
    "    text = re.sub('-', ' ', text)\n",
    "    return text\n",
    "\n",
    "\n",
    "data['english'] = data['english'].apply(preprocess)\n",
    "data['italian'] = data['italian'].apply(preprocess_ita)\n",
    "data.head()"
   ]
  },
  {
   "cell_type": "code",
   "execution_count": 8,
   "metadata": {
    "id": "DN3NP_tatH0m"
   },
   "outputs": [],
   "source": [
    "ita_lengths = data['italian'].str.split().apply(len)\n",
    "eng_lengths = data['english'].str.split().apply(len)"
   ]
  },
  {
   "cell_type": "code",
   "execution_count": 9,
   "metadata": {
    "colab": {
     "base_uri": "https://localhost:8080/"
    },
    "id": "NHBg5V0btK_f",
    "outputId": "d03ebea0-eb42-4669-af0e-985090243075"
   },
   "outputs": [
    {
     "name": "stdout",
     "output_type": "stream",
     "text": [
      "0 1.0\n",
      "10 3.0\n",
      "20 4.0\n",
      "30 4.0\n",
      "40 5.0\n",
      "50 5.0\n",
      "60 6.0\n",
      "70 6.0\n",
      "80 7.0\n",
      "90 8.0\n",
      "100 92.0\n",
      "90 8.0\n",
      "91 8.0\n",
      "92 8.0\n",
      "93 9.0\n",
      "94 9.0\n",
      "95 9.0\n",
      "96 10.0\n",
      "97 10.0\n",
      "98 11.0\n",
      "99 12.0\n",
      "100 92.0\n",
      "99.1 12.0\n",
      "99.2 12.0\n",
      "99.3 13.0\n",
      "99.4 13.0\n",
      "99.5 13.0\n",
      "99.6 14.0\n",
      "99.7 15.0\n",
      "99.8 16.0\n",
      "99.9 20.0\n",
      "100 92.0\n"
     ]
    }
   ],
   "source": [
    "for i in range(0,101,10):\n",
    "    print(i,np.percentile(ita_lengths, i))\n",
    "for i in range(90,101):\n",
    "    print(i,np.percentile(ita_lengths, i))\n",
    "for i in [99.1,99.2,99.3,99.4,99.5,99.6,99.7,99.8,99.9,100]:\n",
    "    print(i,np.percentile(ita_lengths, i))"
   ]
  },
  {
   "cell_type": "code",
   "execution_count": 10,
   "metadata": {
    "colab": {
     "base_uri": "https://localhost:8080/"
    },
    "id": "Hyfi8OjetN2_",
    "outputId": "aabfed5a-93eb-4ca2-972b-5f6c45aa2f7b"
   },
   "outputs": [
    {
     "name": "stdout",
     "output_type": "stream",
     "text": [
      "0 1.0\n",
      "10 4.0\n",
      "20 4.0\n",
      "30 5.0\n",
      "40 5.0\n",
      "50 6.0\n",
      "60 6.0\n",
      "70 7.0\n",
      "80 7.0\n",
      "90 8.0\n",
      "100 101.0\n",
      "90 8.0\n",
      "91 9.0\n",
      "92 9.0\n",
      "93 9.0\n",
      "94 9.0\n",
      "95 9.0\n",
      "96 10.0\n",
      "97 10.0\n",
      "98 11.0\n",
      "99 12.0\n",
      "100 101.0\n",
      "99.1 12.0\n",
      "99.2 13.0\n",
      "99.3 13.0\n",
      "99.4 13.0\n",
      "99.5 14.0\n",
      "99.6 14.0\n",
      "99.7 15.0\n",
      "99.8 16.0\n",
      "99.9 21.18800000002375\n",
      "100 101.0\n"
     ]
    }
   ],
   "source": [
    "for i in range(0,101,10):\n",
    "    print(i,np.percentile(eng_lengths, i))\n",
    "for i in range(90,101):\n",
    "    print(i,np.percentile(eng_lengths, i))\n",
    "for i in [99.1,99.2,99.3,99.4,99.5,99.6,99.7,99.8,99.9,100]:\n",
    "    print(i,np.percentile(eng_lengths, i))"
   ]
  },
  {
   "cell_type": "code",
   "execution_count": 11,
   "metadata": {
    "colab": {
     "base_uri": "https://localhost:8080/",
     "height": 204
    },
    "id": "_i8Chx-htQY-",
    "outputId": "024638cd-35df-4ef0-d44a-d832aa013af6"
   },
   "outputs": [
    {
     "data": {
      "text/html": [
       "<div>\n",
       "<style scoped>\n",
       "    .dataframe tbody tr th:only-of-type {\n",
       "        vertical-align: middle;\n",
       "    }\n",
       "\n",
       "    .dataframe tbody tr th {\n",
       "        vertical-align: top;\n",
       "    }\n",
       "\n",
       "    .dataframe thead th {\n",
       "        text-align: right;\n",
       "    }\n",
       "</style>\n",
       "<table border=\"1\" class=\"dataframe\">\n",
       "  <thead>\n",
       "    <tr style=\"text-align: right;\">\n",
       "      <th></th>\n",
       "      <th>italian</th>\n",
       "      <th>english_inp</th>\n",
       "      <th>english_out</th>\n",
       "    </tr>\n",
       "  </thead>\n",
       "  <tbody>\n",
       "    <tr>\n",
       "      <th>0</th>\n",
       "      <td>ciao</td>\n",
       "      <td>&lt;start&gt; hi</td>\n",
       "      <td>hi &lt;end&gt;</td>\n",
       "    </tr>\n",
       "    <tr>\n",
       "      <th>1</th>\n",
       "      <td>corri</td>\n",
       "      <td>&lt;start&gt; run</td>\n",
       "      <td>run &lt;end&gt;</td>\n",
       "    </tr>\n",
       "    <tr>\n",
       "      <th>2</th>\n",
       "      <td>corra</td>\n",
       "      <td>&lt;start&gt; run</td>\n",
       "      <td>run &lt;end&gt;</td>\n",
       "    </tr>\n",
       "    <tr>\n",
       "      <th>3</th>\n",
       "      <td>correte</td>\n",
       "      <td>&lt;start&gt; run</td>\n",
       "      <td>run &lt;end&gt;</td>\n",
       "    </tr>\n",
       "    <tr>\n",
       "      <th>4</th>\n",
       "      <td>chi</td>\n",
       "      <td>&lt;start&gt; who</td>\n",
       "      <td>who &lt;end&gt;</td>\n",
       "    </tr>\n",
       "  </tbody>\n",
       "</table>\n",
       "</div>"
      ],
      "text/plain": [
       "   italian  english_inp english_out\n",
       "0     ciao   <start> hi    hi <end>\n",
       "1    corri  <start> run   run <end>\n",
       "2    corra  <start> run   run <end>\n",
       "3  correte  <start> run   run <end>\n",
       "4      chi  <start> who   who <end>"
      ]
     },
     "execution_count": 11,
     "metadata": {
      "tags": []
     },
     "output_type": "execute_result"
    }
   ],
   "source": [
    "data['italian_len'] = data['italian'].str.split().apply(len)\n",
    "data = data[data['italian_len'] < 20]\n",
    "\n",
    "data['english_len'] = data['english'].str.split().apply(len)\n",
    "data = data[data['english_len'] < 20]\n",
    "\n",
    "data['english_inp'] = '<start> ' + data['english'].astype(str)\n",
    "data['english_out'] = data['english'].astype(str) + ' <end>'\n",
    "\n",
    "data = data.drop(['english','italian_len','english_len'], axis=1)\n",
    "# only for the first sentance add a toke <end> so that we will have <end> in tokenizer\n",
    "data.head()"
   ]
  },
  {
   "cell_type": "code",
   "execution_count": 12,
   "metadata": {
    "colab": {
     "base_uri": "https://localhost:8080/",
     "height": 359
    },
    "id": "OJUNiO4RtS__",
    "outputId": "bed5395a-da5c-4882-ae90-8c8e2804a185"
   },
   "outputs": [
    {
     "data": {
      "text/html": [
       "<div>\n",
       "<style scoped>\n",
       "    .dataframe tbody tr th:only-of-type {\n",
       "        vertical-align: middle;\n",
       "    }\n",
       "\n",
       "    .dataframe tbody tr th {\n",
       "        vertical-align: top;\n",
       "    }\n",
       "\n",
       "    .dataframe thead th {\n",
       "        text-align: right;\n",
       "    }\n",
       "</style>\n",
       "<table border=\"1\" class=\"dataframe\">\n",
       "  <thead>\n",
       "    <tr style=\"text-align: right;\">\n",
       "      <th></th>\n",
       "      <th>italian</th>\n",
       "      <th>english_inp</th>\n",
       "      <th>english_out</th>\n",
       "    </tr>\n",
       "  </thead>\n",
       "  <tbody>\n",
       "    <tr>\n",
       "      <th>196177</th>\n",
       "      <td>ero geloso di mio fratello</td>\n",
       "      <td>&lt;start&gt; i was jealous of my brother</td>\n",
       "      <td>i was jealous of my brother &lt;end&gt;</td>\n",
       "    </tr>\n",
       "    <tr>\n",
       "      <th>313721</th>\n",
       "      <td>a chi tocca preparare la cena stasera</td>\n",
       "      <td>&lt;start&gt; whose turn is it to make dinner tonight</td>\n",
       "      <td>whose turn is it to make dinner tonight &lt;end&gt;</td>\n",
       "    </tr>\n",
       "    <tr>\n",
       "      <th>186328</th>\n",
       "      <td>tom si fermò per dare unocchiata</td>\n",
       "      <td>&lt;start&gt; tom stopped to look around</td>\n",
       "      <td>tom stopped to look around &lt;end&gt;</td>\n",
       "    </tr>\n",
       "    <tr>\n",
       "      <th>116479</th>\n",
       "      <td>urlo quasi ogni giorno</td>\n",
       "      <td>&lt;start&gt; i cry almost every day</td>\n",
       "      <td>i cry almost every day &lt;end&gt;</td>\n",
       "    </tr>\n",
       "    <tr>\n",
       "      <th>174184</th>\n",
       "      <td>sembri un po nervosa</td>\n",
       "      <td>&lt;start&gt; you seem a little nervous</td>\n",
       "      <td>you seem a little nervous &lt;end&gt;</td>\n",
       "    </tr>\n",
       "    <tr>\n",
       "      <th>315785</th>\n",
       "      <td>tom ha intenzione di essere alla riunione di oggi</td>\n",
       "      <td>&lt;start&gt; is tom planning to be at today is meeting</td>\n",
       "      <td>is tom planning to be at today is meeting &lt;end&gt;</td>\n",
       "    </tr>\n",
       "    <tr>\n",
       "      <th>313391</th>\n",
       "      <td>la figlia maggiore di tom non è ancora sposata</td>\n",
       "      <td>&lt;start&gt; tom is older daughter is still unmarried</td>\n",
       "      <td>tom is older daughter is still unmarried &lt;end&gt;</td>\n",
       "    </tr>\n",
       "    <tr>\n",
       "      <th>24039</th>\n",
       "      <td>siete inutili</td>\n",
       "      <td>&lt;start&gt; you are useless</td>\n",
       "      <td>you are useless &lt;end&gt;</td>\n",
       "    </tr>\n",
       "    <tr>\n",
       "      <th>4832</th>\n",
       "      <td>ti ho trovata</td>\n",
       "      <td>&lt;start&gt; i found you</td>\n",
       "      <td>i found you &lt;end&gt;</td>\n",
       "    </tr>\n",
       "    <tr>\n",
       "      <th>131203</th>\n",
       "      <td>quanto costa</td>\n",
       "      <td>&lt;start&gt; how much does this cost</td>\n",
       "      <td>how much does this cost &lt;end&gt;</td>\n",
       "    </tr>\n",
       "  </tbody>\n",
       "</table>\n",
       "</div>"
      ],
      "text/plain": [
       "                                                  italian  ...                                      english_out\n",
       "196177                         ero geloso di mio fratello  ...                i was jealous of my brother <end>\n",
       "313721              a chi tocca preparare la cena stasera  ...    whose turn is it to make dinner tonight <end>\n",
       "186328                   tom si fermò per dare unocchiata  ...                 tom stopped to look around <end>\n",
       "116479                             urlo quasi ogni giorno  ...                     i cry almost every day <end>\n",
       "174184                               sembri un po nervosa  ...                  you seem a little nervous <end>\n",
       "315785  tom ha intenzione di essere alla riunione di oggi  ...  is tom planning to be at today is meeting <end>\n",
       "313391     la figlia maggiore di tom non è ancora sposata  ...   tom is older daughter is still unmarried <end>\n",
       "24039                                       siete inutili  ...                            you are useless <end>\n",
       "4832                                        ti ho trovata  ...                                i found you <end>\n",
       "131203                                       quanto costa  ...                    how much does this cost <end>\n",
       "\n",
       "[10 rows x 3 columns]"
      ]
     },
     "execution_count": 12,
     "metadata": {
      "tags": []
     },
     "output_type": "execute_result"
    }
   ],
   "source": [
    "data.sample(10)"
   ]
  },
  {
   "cell_type": "code",
   "execution_count": 13,
   "metadata": {
    "id": "p8xfcCGUtWNo"
   },
   "outputs": [],
   "source": [
    "from sklearn.model_selection import train_test_split\n",
    "train, validation = train_test_split(data, test_size=0.2)"
   ]
  },
  {
   "cell_type": "code",
   "execution_count": 14,
   "metadata": {
    "colab": {
     "base_uri": "https://localhost:8080/"
    },
    "id": "Vw7nHCOQtYaJ",
    "outputId": "0b2c3a35-9e02-4583-e851-eda4acda5408"
   },
   "outputs": [
    {
     "name": "stdout",
     "output_type": "stream",
     "text": [
      "(274710, 3) (68678, 3)\n"
     ]
    }
   ],
   "source": [
    "print(train.shape, validation.shape)\n",
    "# for one sentence we will be adding <end> token so that the tokanizer learns the word <end>\n",
    "# with this we can use only one tokenizer for both encoder output and decoder output\n",
    "train.iloc[0]['english_inp']= str(train.iloc[0]['english_inp'])+' <end>'\n",
    "train.iloc[0]['english_out']= str(train.iloc[0]['english_out'])+' <end>'"
   ]
  },
  {
   "cell_type": "code",
   "execution_count": 15,
   "metadata": {
    "colab": {
     "base_uri": "https://localhost:8080/",
     "height": 204
    },
    "id": "jBth1W4ytafh",
    "outputId": "d59621b0-9aa7-4169-b33b-1d0ce292abde"
   },
   "outputs": [
    {
     "data": {
      "text/html": [
       "<div>\n",
       "<style scoped>\n",
       "    .dataframe tbody tr th:only-of-type {\n",
       "        vertical-align: middle;\n",
       "    }\n",
       "\n",
       "    .dataframe tbody tr th {\n",
       "        vertical-align: top;\n",
       "    }\n",
       "\n",
       "    .dataframe thead th {\n",
       "        text-align: right;\n",
       "    }\n",
       "</style>\n",
       "<table border=\"1\" class=\"dataframe\">\n",
       "  <thead>\n",
       "    <tr style=\"text-align: right;\">\n",
       "      <th></th>\n",
       "      <th>italian</th>\n",
       "      <th>english_inp</th>\n",
       "      <th>english_out</th>\n",
       "    </tr>\n",
       "  </thead>\n",
       "  <tbody>\n",
       "    <tr>\n",
       "      <th>181991</th>\n",
       "      <td>a molta gente piace viaggiare</td>\n",
       "      <td>&lt;start&gt; many people like to travel &lt;end&gt;</td>\n",
       "      <td>many people like to travel &lt;end&gt; &lt;end&gt;</td>\n",
       "    </tr>\n",
       "    <tr>\n",
       "      <th>282689</th>\n",
       "      <td>questo non mi ricorda niente</td>\n",
       "      <td>&lt;start&gt; this does not remind me of anything</td>\n",
       "      <td>this does not remind me of anything &lt;end&gt;</td>\n",
       "    </tr>\n",
       "    <tr>\n",
       "      <th>237080</th>\n",
       "      <td>io non avevo idea che tom fosse un medico</td>\n",
       "      <td>&lt;start&gt; i had no idea tom was a doctor</td>\n",
       "      <td>i had no idea tom was a doctor &lt;end&gt;</td>\n",
       "    </tr>\n",
       "    <tr>\n",
       "      <th>342808</th>\n",
       "      <td>dato che ha il mal di gola e la febbre probabi...</td>\n",
       "      <td>&lt;start&gt; since you have a sore throat and a fev...</td>\n",
       "      <td>since you have a sore throat and a fever you s...</td>\n",
       "    </tr>\n",
       "    <tr>\n",
       "      <th>216786</th>\n",
       "      <td>tom mi ha detto che odia ballare</td>\n",
       "      <td>&lt;start&gt; tom told me you hate dancing</td>\n",
       "      <td>tom told me you hate dancing &lt;end&gt;</td>\n",
       "    </tr>\n",
       "  </tbody>\n",
       "</table>\n",
       "</div>"
      ],
      "text/plain": [
       "                                                  italian  ...                                        english_out\n",
       "181991                      a molta gente piace viaggiare  ...             many people like to travel <end> <end>\n",
       "282689                       questo non mi ricorda niente  ...          this does not remind me of anything <end>\n",
       "237080          io non avevo idea che tom fosse un medico  ...               i had no idea tom was a doctor <end>\n",
       "342808  dato che ha il mal di gola e la febbre probabi...  ...  since you have a sore throat and a fever you s...\n",
       "216786                   tom mi ha detto che odia ballare  ...                 tom told me you hate dancing <end>\n",
       "\n",
       "[5 rows x 3 columns]"
      ]
     },
     "execution_count": 15,
     "metadata": {
      "tags": []
     },
     "output_type": "execute_result"
    }
   ],
   "source": [
    "train.head()"
   ]
  },
  {
   "cell_type": "code",
   "execution_count": 16,
   "metadata": {
    "colab": {
     "base_uri": "https://localhost:8080/",
     "height": 204
    },
    "id": "6MS8TRmUtcYX",
    "outputId": "0f3d4e1a-6a13-4353-ebb1-c4f6eb446daa"
   },
   "outputs": [
    {
     "data": {
      "text/html": [
       "<div>\n",
       "<style scoped>\n",
       "    .dataframe tbody tr th:only-of-type {\n",
       "        vertical-align: middle;\n",
       "    }\n",
       "\n",
       "    .dataframe tbody tr th {\n",
       "        vertical-align: top;\n",
       "    }\n",
       "\n",
       "    .dataframe thead th {\n",
       "        text-align: right;\n",
       "    }\n",
       "</style>\n",
       "<table border=\"1\" class=\"dataframe\">\n",
       "  <thead>\n",
       "    <tr style=\"text-align: right;\">\n",
       "      <th></th>\n",
       "      <th>italian</th>\n",
       "      <th>english_inp</th>\n",
       "      <th>english_out</th>\n",
       "    </tr>\n",
       "  </thead>\n",
       "  <tbody>\n",
       "    <tr>\n",
       "      <th>201564</th>\n",
       "      <td>tom ha bisogno di soldi per luniversità</td>\n",
       "      <td>&lt;start&gt; tom needs money for college</td>\n",
       "      <td>tom needs money for college &lt;end&gt;</td>\n",
       "    </tr>\n",
       "    <tr>\n",
       "      <th>297224</th>\n",
       "      <td>tom e mary lavorano molto bene assieme</td>\n",
       "      <td>&lt;start&gt; tom and mary work very well together</td>\n",
       "      <td>tom and mary work very well together &lt;end&gt;</td>\n",
       "    </tr>\n",
       "    <tr>\n",
       "      <th>161165</th>\n",
       "      <td>dai il mio amore ai tuoi bambini</td>\n",
       "      <td>&lt;start&gt; give my love to your kids</td>\n",
       "      <td>give my love to your kids &lt;end&gt;</td>\n",
       "    </tr>\n",
       "    <tr>\n",
       "      <th>239093</th>\n",
       "      <td>sto risparmiando per comprare una nuova auto</td>\n",
       "      <td>&lt;start&gt; i am saving up to buy a new car</td>\n",
       "      <td>i am saving up to buy a new car &lt;end&gt;</td>\n",
       "    </tr>\n",
       "    <tr>\n",
       "      <th>333276</th>\n",
       "      <td>quegli uomini stavano parlando in francese o i...</td>\n",
       "      <td>&lt;start&gt; were those men speaking in french or i...</td>\n",
       "      <td>were those men speaking in french or in englis...</td>\n",
       "    </tr>\n",
       "  </tbody>\n",
       "</table>\n",
       "</div>"
      ],
      "text/plain": [
       "                                                  italian  ...                                        english_out\n",
       "201564            tom ha bisogno di soldi per luniversità  ...                  tom needs money for college <end>\n",
       "297224             tom e mary lavorano molto bene assieme  ...         tom and mary work very well together <end>\n",
       "161165                   dai il mio amore ai tuoi bambini  ...                    give my love to your kids <end>\n",
       "239093       sto risparmiando per comprare una nuova auto  ...              i am saving up to buy a new car <end>\n",
       "333276  quegli uomini stavano parlando in francese o i...  ...  were those men speaking in french or in englis...\n",
       "\n",
       "[5 rows x 3 columns]"
      ]
     },
     "execution_count": 16,
     "metadata": {
      "tags": []
     },
     "output_type": "execute_result"
    }
   ],
   "source": [
    "validation.head()"
   ]
  },
  {
   "cell_type": "code",
   "execution_count": 17,
   "metadata": {
    "colab": {
     "base_uri": "https://localhost:8080/",
     "height": 546
    },
    "id": "aX3boZ8Htego",
    "outputId": "9448618b-35d2-4f37-9d3c-6dc333a7b123"
   },
   "outputs": [
    {
     "data": {
      "image/png": "[encoded data removed]",
      "text/plain": [
       "<Figure size 432x288 with 1 Axes>"
      ]
     },
     "metadata": {
      "needs_background": "light",
      "tags": []
     },
     "output_type": "display_data"
    },
    {
     "data": {
      "image/png": "[encoded data removed]",
      "text/plain": [
       "<Figure size 432x288 with 1 Axes>"
      ]
     },
     "metadata": {
      "needs_background": "light",
      "tags": []
     },
     "output_type": "display_data"
    }
   ],
   "source": [
    "ita_lengths = train['italian'].str.split().apply(len)\n",
    "eng_lengths = train['english_inp'].str.split().apply(len)\n",
    "import seaborn as sns\n",
    "sns.kdeplot(ita_lengths)\n",
    "plt.show()\n",
    "sns.kdeplot(eng_lengths)\n",
    "plt.show()"
   ]
  },
  {
   "cell_type": "code",
   "execution_count": 18,
   "metadata": {
    "id": "j4vdIA93tg3_"
   },
   "outputs": [],
   "source": [
    "tknizer_ita = Tokenizer()\n",
    "tknizer_ita.fit_on_texts(train['italian'].values)\n",
    "tknizer_eng = Tokenizer(filters='!\"#$%&()*+,-./:;=?@[\\\\]^_`{|}~\\t\\n')\n",
    "tknizer_eng.fit_on_texts(train['english_inp'].values)"
   ]
  },
  {
   "cell_type": "code",
   "execution_count": 19,
   "metadata": {
    "colab": {
     "base_uri": "https://localhost:8080/"
    },
    "id": "ONvOTLL6tjT3",
    "outputId": "7a079126-c0f0-41a0-a21d-21cce14c0ffe"
   },
   "outputs": [
    {
     "name": "stdout",
     "output_type": "stream",
     "text": [
      "12827\n",
      "26197\n"
     ]
    }
   ],
   "source": [
    "vocab_size_eng=len(tknizer_eng.word_index.keys())\n",
    "print(vocab_size_eng)\n",
    "vocab_size_ita=len(tknizer_ita.word_index.keys())\n",
    "print(vocab_size_ita)"
   ]
  },
  {
   "cell_type": "code",
   "execution_count": 20,
   "metadata": {
    "colab": {
     "base_uri": "https://localhost:8080/"
    },
    "id": "qgqWrtG8tl1Y",
    "outputId": "a1af223e-e544-43b3-fb4b-be653befc607"
   },
   "outputs": [
    {
     "data": {
      "text/plain": [
       "(1, 10116)"
      ]
     },
     "execution_count": 20,
     "metadata": {
      "tags": []
     },
     "output_type": "execute_result"
    }
   ],
   "source": [
    "tknizer_eng.word_index['<start>'], tknizer_eng.word_index['<end>']"
   ]
  },
  {
   "cell_type": "code",
   "execution_count": null,
   "metadata": {
    "id": "O-RM3xDptsgB"
   },
   "outputs": [],
   "source": [
    "class Encoder(tf.keras.Model):\n",
    "    '''\n",
    "    Encoder model -- That takes a input sequence and returns encoder-outputs,encoder_final_state_h,encoder_final_state_c\n",
    "    '''\n",
    "\n",
    "    def __init__(self,inp_vocab_size,embedding_size,lstm_size,input_length):\n",
    "      super().__init__()\n",
    "      self.vocab_size = inp_vocab_size\n",
    "      self.embedding_dim = embedding_size\n",
    "      self.input_length = input_length\n",
    "      self.lstm_size= lstm_size\n",
    "\n",
    "    def build(self, input_shape):\n",
    "      self.embedding = Embedding(input_dim=self.vocab_size, output_dim=self.embedding_dim, input_length=self.input_length,\n",
    "                           mask_zero=True, name=\"embedding_layer_encoder\")\n",
    "      self.lstm = LSTM(self.lstm_size, return_state=True, return_sequences=True, name=\"Encoder_LSTM\")\n",
    "\n",
    "        #Initialize Embedding layer\n",
    "        #Intialize Encoder LSTM layer\n",
    "\n",
    "\n",
    "    def call(self,input_sequence,states):\n",
    "      input_embedd                           = self.embedding(input_sequence)\n",
    "      self.lstm_output, self.lstm_state_h,self.lstm_state_c = self.lstm(input_embedd, initial_state=states)\n",
    "      return self.lstm_output, self.lstm_state_h,self.lstm_state_c\n",
    "        #'''\n",
    "          #This function takes a sequence input and the initial states of the encoder.\n",
    "          #Pass the input_sequence input to the Embedding layer, Pass the embedding layer ouput to encoder_lstm\n",
    "          #returns -- encoder_output, last time step's hidden and cell state\n",
    "\n",
    "       # '''\n",
    "    def get_states(self):\n",
    "      return self.lstm_state_h,self.lstm_state_c\n",
    "      \n",
    "\n",
    "    \n",
    "    def initialize_states(self,batch_size):\n",
    "      self.lstm_state_h= tf.zeros(shape=[batch_size,self.lstm_size])\n",
    "      self.lstm_state_c=tf.zeros(shape=[batch_size,self.lstm_size])\n",
    "      return [self.lstm_state_h,self.lstm_state_c]\n",
    "\n",
    "\n",
    "      #'''\n",
    "     # Given a batch size it will return intial hidden state and intial cell state.\n",
    "      #If batch size is 32- Hidden state is zeros of size [32,lstm_units], cell state zeros is of size [32,lstm_units]\n",
    "      #'''\n",
    "      \n"
   ]
  },
  {
   "cell_type": "markdown",
   "metadata": {
    "id": "EQDk32NnK7-t"
   },
   "source": [
    "<font color='orange'>**Grader function - 1**</font>"
   ]
  },
  {
   "cell_type": "code",
   "execution_count": null,
   "metadata": {
    "colab": {
     "base_uri": "https://localhost:8080/"
    },
    "id": "JnmRe02qK6-w",
    "outputId": "638225a1-58e2-4af2-ab20-a70334a8830a"
   },
   "outputs": [
    {
     "name": "stdout",
     "output_type": "stream",
     "text": [
      "True\n"
     ]
    }
   ],
   "source": [
    "def grader_check_encoder():\n",
    "    '''\n",
    "        vocab-size: Unique words of the input language,\n",
    "        embedding_size: output embedding dimension for each word after embedding layer,\n",
    "        lstm_size: Number of lstm units,\n",
    "        input_length: Length of the input sentence,\n",
    "        batch_size\n",
    "    '''\n",
    "    vocab_size=10\n",
    "    embedding_size=20\n",
    "    lstm_size=32\n",
    "    input_length=10\n",
    "    batch_size=16\n",
    "    #Intialzing encoder \n",
    "    encoder=Encoder(vocab_size,embedding_size,lstm_size,input_length)\n",
    "    input_sequence=tf.random.uniform(shape=[batch_size,input_length],maxval=vocab_size,minval=0,dtype=tf.int32)\n",
    "    #Intializing encoder initial states\n",
    "    initial_state=encoder.initialize_states(batch_size)\n",
    "    encoder_output,state_h,state_c=encoder(input_sequence,initial_state)\n",
    "    \n",
    "    assert(encoder_output.shape==(batch_size,input_length,lstm_size) and state_h.shape==(batch_size,lstm_size) and state_c.shape==(batch_size,lstm_size))\n",
    "    return True\n",
    "print(grader_check_encoder())"
   ]
  },
  {
   "cell_type": "code",
   "execution_count": null,
   "metadata": {
    "id": "p_C_8SwDIWHj"
   },
   "outputs": [],
   "source": [
    "class Decoder(tf.keras.Model):\n",
    "    '''\n",
    "    Encoder model -- That takes a input sequence and returns encoder-outputs,encoder_final_state_h,encoder_final_state_c\n",
    "    '''\n",
    "\n",
    "    def __init__(self,inp_vocab_size,embedding_size,lstm_size,input_length):\n",
    "      super().__init__()\n",
    "      self.vocab_size = inp_vocab_size\n",
    "      self.embedding_dim = embedding_size\n",
    "      self.input_length = input_length\n",
    "      self.lstm_size= lstm_size\n",
    "\n",
    "      self.embedding = Embedding(input_dim=self.vocab_size, output_dim=self.embedding_dim, input_length=self.input_length,\n",
    "                           mask_zero=True, name=\"embedding_layer_encoder\", trainable=True)\n",
    "      self.lstm = LSTM(self.lstm_size, return_state=True, return_sequences=True, name=\"Encoder_LSTM\")\n",
    "\n",
    "\n",
    "    def call(self,input_sequence,states):\n",
    "      input_embedd                           = self.embedding(input_sequence)\n",
    "      self.lstm_output, self.lstm_state_h,self.lstm_state_c = self.lstm(input_embedd, initial_state=states)\n",
    "      return self.lstm_output, self.lstm_state_h,self.lstm_state_c\n",
    "\n"
   ]
  },
  {
   "cell_type": "markdown",
   "metadata": {
    "id": "IJ-P5H6mLFVp"
   },
   "source": [
    "<font color='orange'>**Grader function - 2**</font>"
   ]
  },
  {
   "cell_type": "code",
   "execution_count": null,
   "metadata": {
    "colab": {
     "base_uri": "https://localhost:8080/"
    },
    "id": "3mD1yHRELIVY",
    "outputId": "d15cebe2-11cf-460e-9c2f-25bca41b1269"
   },
   "outputs": [
    {
     "name": "stdout",
     "output_type": "stream",
     "text": [
      "True\n"
     ]
    }
   ],
   "source": [
    "def grader_decoder():\n",
    "    '''\n",
    "        out_vocab_size: Unique words of the target language,\n",
    "        embedding_size: output embedding dimension for each word after embedding layer,\n",
    "        dec_units: Number of lstm units in decoder,\n",
    "        input_length: Length of the input sentence,\n",
    "        batch_size\n",
    "        \n",
    "    \n",
    "    '''\n",
    "    out_vocab_size=13 \n",
    "    embedding_dim=12 \n",
    "    input_length=10\n",
    "    dec_units=16 \n",
    "    batch_size=32\n",
    "    \n",
    "    target_sentences=tf.random.uniform(shape=(batch_size,input_length),maxval=10,minval=0,dtype=tf.int32)\n",
    "    encoder_output=tf.random.uniform(shape=[batch_size,input_length,dec_units])\n",
    "    state_h=tf.random.uniform(shape=[batch_size,dec_units])\n",
    "    state_c=tf.random.uniform(shape=[batch_size,dec_units])\n",
    "    states=[state_h,state_c]\n",
    "    decoder=Decoder(out_vocab_size, embedding_dim, dec_units,input_length )\n",
    "    output,_,_=decoder(target_sentences, states)\n",
    "    assert(output.shape==(batch_size,input_length,dec_units))\n",
    "    return True\n",
    "print(grader_decoder())"
   ]
  },
  {
   "cell_type": "code",
   "execution_count": 21,
   "metadata": {
    "id": "JxQaz8PVwV__"
   },
   "outputs": [],
   "source": [
    "class Dataset:\n",
    "    def __init__(self, data, tknizer_ita, tknizer_eng, max_len):\n",
    "        self.encoder_inps = data['italian'].values\n",
    "        self.decoder_inps = data['english_inp'].values\n",
    "        self.decoder_outs = data['english_out'].values\n",
    "        self.tknizer_eng = tknizer_eng\n",
    "        self.tknizer_ita = tknizer_ita\n",
    "        self.max_len = max_len\n",
    "\n",
    "    def __getitem__(self, i):\n",
    "        self.encoder_seq = self.tknizer_ita.texts_to_sequences([self.encoder_inps[i]]) # need to pass list of values\n",
    "        self.decoder_inp_seq = self.tknizer_eng.texts_to_sequences([self.decoder_inps[i]])\n",
    "        self.decoder_out_seq = self.tknizer_eng.texts_to_sequences([self.decoder_outs[i]])\n",
    "\n",
    "        self.encoder_seq = pad_sequences(self.encoder_seq, maxlen=self.max_len, dtype='int32', padding='post')\n",
    "        self.decoder_inp_seq = pad_sequences(self.decoder_inp_seq, maxlen=self.max_len, dtype='int32', padding='post')\n",
    "        self.decoder_out_seq = pad_sequences(self.decoder_out_seq, maxlen=self.max_len, dtype='int32', padding='post')\n",
    "        return self.encoder_seq, self.decoder_inp_seq, self.decoder_out_seq\n",
    "\n",
    "    def __len__(self): # your model.fit_gen requires this function\n",
    "        return len(self.encoder_inps)\n",
    "\n",
    "    \n",
    "class Dataloder(tf.keras.utils.Sequence):    \n",
    "    def __init__(self, dataset, batch_size=1):\n",
    "        self.dataset = dataset\n",
    "        self.batch_size = batch_size\n",
    "        self.indexes = np.arange(len(self.dataset.encoder_inps))\n",
    "\n",
    "\n",
    "    def __getitem__(self, i):\n",
    "        start = i * self.batch_size\n",
    "        stop = (i + 1) * self.batch_size\n",
    "        data = []\n",
    "        for j in range(start, stop):\n",
    "            data.append(self.dataset[j])\n",
    "\n",
    "        batch = [np.squeeze(np.stack(samples, axis=1), axis=0) for samples in zip(*data)]\n",
    "        # we are creating data like ([italian, english_inp], english_out) these are already converted into seq\n",
    "        return tuple([[batch[0],batch[1]],batch[2]])\n",
    "\n",
    "    def __len__(self):  # your model.fit_gen requires this function\n",
    "        return len(self.indexes) // self.batch_size\n",
    "\n",
    "    def on_epoch_end(self):\n",
    "        self.indexes = np.random.permutation(self.indexes)"
   ]
  },
  {
   "cell_type": "code",
   "execution_count": 22,
   "metadata": {
    "colab": {
     "base_uri": "https://localhost:8080/"
    },
    "id": "2z2SUWqMwcIs",
    "outputId": "9ed2484e-8fbf-4853-9847-382cf4258923"
   },
   "outputs": [
    {
     "name": "stdout",
     "output_type": "stream",
     "text": [
      "(1024, 20) (1024, 20) (1024, 20)\n"
     ]
    }
   ],
   "source": [
    "train_dataset = Dataset(train, tknizer_ita, tknizer_eng, 20)\n",
    "test_dataset  = Dataset(validation, tknizer_ita, tknizer_eng, 20)\n",
    "\n",
    "train_dataloader = Dataloder(train_dataset, batch_size=1024)\n",
    "test_dataloader = Dataloder(test_dataset, batch_size=1024)\n",
    "\n",
    "\n",
    "print(train_dataloader[0][0][0].shape, train_dataloader[0][0][1].shape, train_dataloader[0][1].shape)"
   ]
  },
  {
   "cell_type": "code",
   "execution_count": null,
   "metadata": {
    "id": "6YuDVRQ8wnRt"
   },
   "outputs": [],
   "source": [
    "class Encoder_decoder(tf.keras.Model):\n",
    "    \n",
    "    def __init__(self, encoder_inputs_length,decoder_inputs_length, output_vocab_size):\n",
    "      super().__init__() # https://stackoverflow.com/a/27134600/4084039\n",
    "      self.encoder = Encoder(inp_vocab_size=vocab_size_ita+1, embedding_size=50, input_length=encoder_inputs_length, lstm_size=256)\n",
    "      self.decoder = Decoder(inp_vocab_size=vocab_size_eng+1, embedding_size=100, input_length=decoder_inputs_length, lstm_size=256)\n",
    "      self.dense    = Dense(output_vocab_size, activation='softmax')\n",
    "    \n",
    "    def call(self, data):\n",
    "      input,output = data[0], data[1]\n",
    "      initial_state=self.encoder.initialize_states(1024)\n",
    "      encoder_output, encoder_h, encoder_c = self.encoder(input,initial_state)\n",
    "      states = [encoder_h, encoder_c]\n",
    "      decoder_output,_,_                       = self.decoder(output,states)\n",
    "      output                               = self.dense(decoder_output)\n",
    "      return output\n",
    "        \n",
    "        "
   ]
  },
  {
   "cell_type": "code",
   "execution_count": null,
   "metadata": {
    "colab": {
     "base_uri": "https://localhost:8080/"
    },
    "id": "JM84xGfVIo4w",
    "outputId": "e8982509-d393-484c-d7af-a52cb9359c14"
   },
   "outputs": [
    {
     "name": "stderr",
     "output_type": "stream",
     "text": [
      "/usr/local/lib/python3.6/dist-packages/tensorflow/python/keras/engine/training.py:1844: UserWarning: `Model.fit_generator` is deprecated and will be removed in a future version. Please use `Model.fit`, which supports generators.\n",
      "  warnings.warn('`Model.fit_generator` is deprecated and '\n"
     ]
    },
    {
     "name": "stdout",
     "output_type": "stream",
     "text": [
      "Epoch 1/10\n",
      "268/268 [==============================] - 93s 331ms/step - loss: 1.8493 - val_loss: 1.2325\n",
      "Epoch 2/10\n",
      "268/268 [==============================] - 86s 321ms/step - loss: 1.0914 - val_loss: 0.7130\n",
      "Epoch 3/10\n",
      "268/268 [==============================] - 86s 322ms/step - loss: 0.6022 - val_loss: 0.4472\n",
      "Epoch 4/10\n",
      "268/268 [==============================] - 87s 323ms/step - loss: 0.3563 - val_loss: 0.3380\n",
      "Epoch 5/10\n",
      "268/268 [==============================] - 86s 322ms/step - loss: 0.2408 - val_loss: 0.2839\n",
      "Epoch 6/10\n",
      "268/268 [==============================] - 86s 322ms/step - loss: 0.1824 - val_loss: 0.2580\n",
      "Epoch 7/10\n",
      "268/268 [==============================] - 87s 323ms/step - loss: 0.1463 - val_loss: 0.2427\n",
      "Epoch 8/10\n",
      "268/268 [==============================] - 86s 320ms/step - loss: 0.1201 - val_loss: 0.2354\n",
      "Epoch 9/10\n",
      "268/268 [==============================] - 87s 323ms/step - loss: 0.1051 - val_loss: 0.2311\n",
      "Epoch 10/10\n",
      "268/268 [==============================] - 87s 323ms/step - loss: 0.0921 - val_loss: 0.2287\n",
      "Model: \"encoder_decoder_3\"\n",
      "_________________________________________________________________\n",
      "Layer (type)                 Output Shape              Param #   \n",
      "=================================================================\n",
      "encoder_3006 (Encoder)       multiple                  1622368   \n",
      "_________________________________________________________________\n",
      "decoder_6 (Decoder)          multiple                  1646568   \n",
      "_________________________________________________________________\n",
      "dense_8 (Dense)              multiple                  3291913   \n",
      "=================================================================\n",
      "Total params: 6,560,849\n",
      "Trainable params: 6,560,849\n",
      "Non-trainable params: 0\n",
      "_________________________________________________________________\n"
     ]
    }
   ],
   "source": [
    "model  = Encoder_decoder(encoder_inputs_length=20,decoder_inputs_length=20,output_vocab_size=vocab_size_eng)\n",
    "optimizer = tf.keras.optimizers.Adam(lr = 0.01)\n",
    "model.compile(optimizer=optimizer,loss='sparse_categorical_crossentropy')\n",
    "train_steps=train.shape[0]//1024  \n",
    "valid_steps=validation.shape[0]//1024\n",
    "model.fit_generator(train_dataloader, steps_per_epoch=train_steps, epochs=10, validation_data=test_dataloader, validation_steps=valid_steps)\n",
    "model.summary()"
   ]
  },
  {
   "cell_type": "code",
   "execution_count": null,
   "metadata": {
    "id": "1MOt2DIYSvkd"
   },
   "outputs": [],
   "source": [
    "dic_ita = dict(zip(tknizer_ita.word_index.keys(),tknizer_ita.word_index.values()))\n",
    "dic_eng = dict(zip(tknizer_eng.word_index.keys(),tknizer_eng.word_index.values()))\n",
    "def predict(input_sentence):\n",
    "\n",
    "  eng_word = [i for i in tknizer_eng.word_index.keys()]\n",
    "\n",
    "  sentences = input_sentence['italian'].values\n",
    "\n",
    "  sentence_translate = []\n",
    "  \n",
    "  for i in range(len(sentences)):\n",
    "    encoder_seq = [[dic_ita[j] for j in sentences[i].split()  if j in dic_ita]]\n",
    "    encoder_seq = pad_sequences(encoder_seq, maxlen=20, dtype='int32', padding='post')\n",
    "    \n",
    "    encoder = Encoder(inp_vocab_size=vocab_size_ita+1, embedding_size=50, input_length=20, lstm_size=256)\n",
    "    initial_state=encoder.initialize_states(1)\n",
    "    enc_output, enc_state_h, enc_state_c = model.layers[0](encoder_seq,initial_state)\n",
    "    states_values = [enc_state_h, enc_state_c]\n",
    "\n",
    "    words_index = []\n",
    "    cur_vec = np.ones((1, 1))\n",
    "    for i in range(len(encoder_seq[0])):\n",
    "      cur_emb = model.layers[1].embedding(cur_vec)\n",
    "      infe_output, state_h, state_c = model.layers[1].lstm(cur_emb, initial_state=states_values)\n",
    "      infe_output=model.layers[2](infe_output)\n",
    "      states_values = [state_h, state_c]\n",
    "      # np.argmax(infe_output) will be a single value, which represents the the index of predicted word\n",
    "      # but to pass this data into next time step embedding layer, we are reshaping it into (1,1) shape\n",
    "      cur_vec = np.reshape(np.argmax(infe_output), (1, 1))\n",
    "      words_index.append(cur_vec[0][0])\n",
    "\n",
    "\n",
    "    #words = [eng_word[i+1] for i in words_index]\n",
    "    words = [eng_word[i+1] for i in words_index]\n",
    "    complete_sentence = ' '.join(words)\n",
    "    sentence_translate.append(complete_sentence)\n",
    "\n",
    "  return sentence_translate"
   ]
  },
  {
   "cell_type": "code",
   "execution_count": null,
   "metadata": {
    "colab": {
     "base_uri": "https://localhost:8080/"
    },
    "id": "6-ksJnP8G8oo",
    "outputId": "527f64e4-b476-4cd2-f95e-20ca81af724d"
   },
   "outputs": [
    {
     "name": "stderr",
     "output_type": "stream",
     "text": [
      "/usr/local/lib/python3.6/dist-packages/nltk/translate/bleu_score.py:490: UserWarning: \n",
      "Corpus/Sentence contains 0 counts of 2-gram overlaps.\n",
      "BLEU scores might be undesirable; use SmoothingFunction().\n",
      "  warnings.warn(_msg)\n"
     ]
    },
    {
     "name": "stdout",
     "output_type": "stream",
     "text": [
      "AVG BLEU score: 0.5319236169481667\n"
     ]
    }
   ],
   "source": [
    "import nltk.translate.bleu_score as bleu\n",
    "import statistics \n",
    "random_sentence = validation.sample(n = 1000, random_state = 24)\n",
    "#random_sentence = validation.head(1000)\n",
    "sen = random_sentence['english_out'].values\n",
    "sentence_translate = predict(random_sentence)\n",
    "\n",
    "score_list = []\n",
    "for i in range(1000):\n",
    "  score_list.append(bleu.sentence_bleu(sen[i][1:], sentence_translate[i][:-1]))\n",
    "score_list = np.array(score_list)\n",
    "avg_bleu = statistics.mean(score_list)\n",
    "print(f'AVG BLEU score: {avg_bleu}')"
   ]
  },
  {
   "cell_type": "markdown",
   "metadata": {
    "id": "9LVaZO8XQeW5"
   },
   "source": [
    "## Task -2: Including Attention mechanisum"
   ]
  },
  {
   "cell_type": "markdown",
   "metadata": {
    "id": "pXEYRJR8QlAD"
   },
   "source": [
    "1. Use the preprocessed data from Task-1\n",
    "\n",
    "2. You have to implement an Encoder and Decoder architecture with  \n",
    "attention as discussed in the reference notebook.\n",
    "\n",
    "    * Encoder   - with 1 layer LSTM <br>\n",
    "    * Decoder   - with 1 layer LSTM<br>\n",
    "    * attention -  (Please refer the <a href= 'https://drive.google.com/file/d/1z_bnc-3aubKawbR6q8wyI6Mh5ho2R1aZ/view?usp=sharing'>**reference notebook**</a> to know more about the attention mechanism.)\n",
    "3. In Global attention, we have 3 types of scoring functions(as discussed in the reference notebook).\n",
    " As a part of this assignment **you need to create 3 models for each scoring function**\n",
    "<img src='https://i.imgur.com/iD2jZo3.png'>\n",
    "\n",
    "    * In model 1 you need to implemnt \"dot\" score function\n",
    "    * In model 2 you need to implemnt \"general\" score function\n",
    "    * In model 3 you need to implemnt \"concat\" score function.<br>\n",
    "    \n",
    " **Please do add the markdown titles for each model so that we can have a better look at the code and verify.**\n",
    "4. It is mandatory to train the model with simple model.fit() only, Donot train the model with custom GradientTape()\n",
    "\n",
    "5. Using attention weights, you can plot the attention plots, \n",
    "please plot those for 2-3 examples. You can check about those in <a href=\"https://www.tensorflow.org/tutorials/text/nmt_with_attention#translate\">this</a>\n",
    "\n",
    "6. The attention layer has to be written by yourself only. \n",
    "The main objective of this assignment is to read and implement a paper on yourself so please do it yourself.  \n",
    "\n",
    "7. Please implement the class **onestepdecoder** as mentioned in the assignment instructions.\n",
    "\n",
    "8. You can use any tf.Keras highlevel API's to build and train the models. \n",
    " Check the reference notebook for better understanding.\n",
    "\n",
    "9. Use BLEU score as metric to evaluate your model. You can use any loss function you need.\n",
    "\n",
    "10. You have to use Tensorboard to plot the Graph, Scores and histograms of gradients. \n",
    "\n",
    "11. Resources:\n",
    "    a. Check the reference notebook\n",
    "    b. <a href=\"https://jalammar.github.io/visualizing-neural-machine-translation-mechanics-of-seq2seq-models-with-attention/\">Resource 1</a>\n",
    "    c. <a href=\"https://www.tensorflow.org/tutorials/text/nmt_with_attention\">Resource 2</a>\n",
    "    d. <a href=\"https://stackoverflow.com/questions/44238154/what-is-the-difference-between-luong-attention-and-bahdanau-attention#:~:text=Luong%20attention%20used%20top%20hidden,hidden%20state%20at%20time%20t.\">Resource 3</a>\n",
    "    "
   ]
  },
  {
   "cell_type": "markdown",
   "metadata": {
    "id": "LaQFAgfGQ2Zs"
   },
   "source": [
    "### <font color='blue'>**Implement custom encoder decoder and attention layers**</font>"
   ]
  },
  {
   "cell_type": "markdown",
   "metadata": {
    "id": "syaLbR4kQ6zy"
   },
   "source": [
    "<font color='blue'>**Encoder**</font>"
   ]
  },
  {
   "cell_type": "code",
   "execution_count": 23,
   "metadata": {
    "id": "xxCH4zcEWBwT"
   },
   "outputs": [],
   "source": [
    "class Encoder(tf.keras.Model):\n",
    "    '''\n",
    "    Encoder model -- That takes a input sequence and returns encoder-outputs,encoder_final_state_h,encoder_final_state_c\n",
    "    '''\n",
    "\n",
    "    def __init__(self,inp_vocab_size,embedding_size,lstm_size,input_length):\n",
    "      super().__init__()\n",
    "      self.vocab_size = inp_vocab_size\n",
    "      self.embedding_dim = embedding_size\n",
    "      self.input_length = input_length\n",
    "      self.lstm_size= lstm_size\n",
    "\n",
    "      self.embedding = Embedding(input_dim=self.vocab_size, output_dim=self.embedding_dim, input_length=self.input_length,\n",
    "                           mask_zero=True, name=\"embedding_layer_encoder\")\n",
    "      self.lstm = LSTM(self.lstm_size, return_state=True, return_sequences=True, name=\"Encoder_LSTM\")\n",
    "\n",
    "        #Initialize Embedding layer\n",
    "        #Intialize Encoder LSTM layer\n",
    "\n",
    "\n",
    "    def call(self,input_sequence,states,training=True):\n",
    "      input_embedd                           = self.embedding(input_sequence)\n",
    "      self.lstm_output, self.lstm_state_h,self.lstm_state_c = self.lstm(input_embedd, initial_state=states)\n",
    "      return self.lstm_output, self.lstm_state_h,self.lstm_state_c\n",
    "        #'''\n",
    "          #This function takes a sequence input and the initial states of the encoder.\n",
    "          #Pass the input_sequence input to the Embedding layer, Pass the embedding layer ouput to encoder_lstm\n",
    "          #returns -- encoder_output, last time step's hidden and cell state\n",
    "       # '''\n",
    "\n",
    "      \n",
    "\n",
    "    \n",
    "    def initialize_states(self,batch_size):\n",
    "      self.lstm_state_h= tf.zeros(shape=[batch_size,self.lstm_size])\n",
    "      self.lstm_state_c=tf.zeros(shape=[batch_size,self.lstm_size])\n",
    "      return [self.lstm_state_h,self.lstm_state_c]\n"
   ]
  },
  {
   "cell_type": "markdown",
   "metadata": {
    "id": "SAPuqp1pQ_8c"
   },
   "source": [
    "<font color='cyan'>**Grader function - 1**</font>"
   ]
  },
  {
   "cell_type": "code",
   "execution_count": 24,
   "metadata": {
    "colab": {
     "base_uri": "https://localhost:8080/"
    },
    "id": "6lY9o6KRRC4H",
    "outputId": "637047a0-89e0-4aea-bc04-6565a2389fab"
   },
   "outputs": [
    {
     "name": "stdout",
     "output_type": "stream",
     "text": [
      "True\n"
     ]
    }
   ],
   "source": [
    "def grader_check_encoder():\n",
    "    \n",
    "    '''\n",
    "        vocab-size: Unique words of the input language,\n",
    "        embedding_size: output embedding dimension for each word after embedding layer,\n",
    "        lstm_size: Number of lstm units in encoder,\n",
    "        input_length: Length of the input sentence,\n",
    "        batch_size\n",
    "    '''\n",
    "    \n",
    "    vocab_size=10\n",
    "    embedding_size=20\n",
    "    lstm_size=32\n",
    "    input_length=10\n",
    "    batch_size=16\n",
    "    encoder=Encoder(vocab_size,embedding_size,lstm_size,input_length)\n",
    "    input_sequence=tf.random.uniform(shape=[batch_size,input_length],maxval=vocab_size,minval=0,dtype=tf.int32)\n",
    "    initial_state=encoder.initialize_states(batch_size)\n",
    "    encoder_output,state_h,state_c=encoder(input_sequence,initial_state)\n",
    "    \n",
    "    assert(encoder_output.shape==(batch_size,input_length,lstm_size) and state_h.shape==(batch_size,lstm_size) and state_c.shape==(batch_size,lstm_size))\n",
    "    return True\n",
    "print(grader_check_encoder())"
   ]
  },
  {
   "cell_type": "markdown",
   "metadata": {
    "id": "aFy8V3daRHN8"
   },
   "source": [
    "<font color='blue'>**Attention**</font>"
   ]
  },
  {
   "cell_type": "code",
   "execution_count": 25,
   "metadata": {
    "id": "qoz0F7PpWKSQ"
   },
   "outputs": [],
   "source": [
    "class Attention(tf.keras.layers.Layer):\n",
    "  '''\n",
    "    Class the calculates score based on the scoring_function using Bahdanu attention mechanism.\n",
    "  '''\n",
    "  def __init__(self,scoring_function, att_units):\n",
    "    super().__init__()\n",
    "    self.scoring_function = scoring_function\n",
    "\n",
    "\n",
    "    if self.scoring_function=='dot':\n",
    "      self.att_units=att_units\n",
    "\n",
    "    if scoring_function == 'general':\n",
    "      self.att_units=att_units\n",
    "      self.weight = tf.keras.initializers.RandomUniform(minval=0., maxval=1.)\n",
    "\n",
    "\n",
    "    elif scoring_function == 'concat':\n",
    "      self.att_units=att_units\n",
    "      self.weight1 = tf.keras.initializers.RandomUniform(minval=0., maxval=1.)\n",
    "      self.weight2 = tf.keras.initializers.RandomUniform(minval=0., maxval=1.)\n",
    "      self.v = tf.keras.initializers.RandomUniform(minval=0., maxval=1.)\n",
    "\n",
    "  \n",
    "  \n",
    "  def call(self,decoder_hidden_state,encoder_output):\n",
    "    \n",
    "    if self.scoring_function == 'dot':\n",
    "    \n",
    "      decoder_hidden_state = tf.keras.layers.Reshape((self.att_units, 1))(decoder_hidden_state)\n",
    "      score = tf.keras.layers.dot([encoder_output,decoder_hidden_state], axes=[2, 1])\n",
    "      \n",
    "      attention_weights = tf.nn.softmax(score, axis=1)\n",
    "      context_vector = attention_weights * encoder_output\n",
    "      context_vector = tf.reduce_sum(context_vector, axis=1)\n",
    "      \n",
    "      return context_vector, attention_weights\n",
    "\n",
    "    elif self.scoring_function == 'general':\n",
    "      weight = self.weight\n",
    "      weight = weight(shape=(encoder_output.shape[0],self.att_units, self.att_units))\n",
    "      weight = tf.keras.layers.Reshape((self.att_units, self.att_units))(weight)\n",
    "      decoder_hidden_state = tf.keras.layers.Reshape((self.att_units, 1))(decoder_hidden_state)\n",
    "\n",
    "      score = tf.keras.layers.dot([encoder_output,weight], axes=[2, 1])\n",
    "      score = tf.keras.layers.dot([score,decoder_hidden_state], axes=[2, 1])\n",
    "\n",
    "      attention_weights = tf.nn.softmax(score, axis=1)\n",
    "      context_vector = attention_weights * encoder_output\n",
    "      context_vector = tf.reduce_sum(context_vector, axis=1)\n",
    "      \n",
    "      return context_vector, attention_weights\n",
    "\n",
    "    elif self.scoring_function == 'concat':\n",
    "      weight1 = self.weight1\n",
    "      weight1 = weight1(shape=(encoder_output.shape[0],self.att_units, 10))\n",
    "      weight1 = tf.keras.layers.Reshape((self.att_units, 10))(weight1)\n",
    "\n",
    "      weight2 = self.weight2\n",
    "      weight2 = weight2(shape=(encoder_output.shape[0],self.att_units, 10))\n",
    "      weight2 = tf.keras.layers.Reshape((self.att_units, 10))(weight2)\n",
    "\n",
    "      v = self.v\n",
    "      v = v(shape=(encoder_output.shape[0],1, 10))\n",
    "      v = tf.keras.layers.Reshape((10, 1))(v)\n",
    "\n",
    "      decoder_hidden_state = tf.keras.layers.Reshape((1,self.att_units))(decoder_hidden_state)\n",
    "\n",
    "      dot1 = tf.keras.layers.dot([decoder_hidden_state,weight1], axes=[2, 1])\n",
    "      dot2 = tf.keras.layers.dot([encoder_output,weight2], axes=[2, 1])\n",
    "\n",
    "\n",
    "      score = tf.nn.tanh(dot1 + dot2)\n",
    "    \n",
    "\n",
    "      score = tf.keras.layers.dot([score,v], axes=[2, 1])\n",
    "\n",
    "      attention_weights = tf.nn.softmax(score, axis=1)\n",
    "      context_vector = attention_weights * encoder_output\n",
    "      context_vector = tf.reduce_sum(context_vector, axis=1)\n",
    "\n",
    "      return context_vector, attention_weights"
   ]
  },
  {
   "cell_type": "markdown",
   "metadata": {
    "id": "b7UpiG1sRbPM"
   },
   "source": [
    "<font color='cyan'>**Grader function - 2**</font>"
   ]
  },
  {
   "cell_type": "code",
   "execution_count": 26,
   "metadata": {
    "colab": {
     "base_uri": "https://localhost:8080/"
    },
    "id": "7Vru8mkHRdpt",
    "outputId": "6ace7deb-6344-4231-bd90-23808ae0280e"
   },
   "outputs": [
    {
     "name": "stdout",
     "output_type": "stream",
     "text": [
      "True\n",
      "True\n",
      "True\n"
     ]
    }
   ],
   "source": [
    "def grader_check_attention(scoring_fun):\n",
    "    \n",
    "    ''' \n",
    "        att_units: Used in matrix multiplications for scoring functions,\n",
    "        input_length: Length of the input sentence,\n",
    "        batch_size\n",
    "    '''\n",
    "    \n",
    "    input_length=10\n",
    "    batch_size=16\n",
    "    att_units=32\n",
    "    \n",
    "    state_h=tf.random.uniform(shape=[batch_size,att_units])\n",
    "    encoder_output=tf.random.uniform(shape=[batch_size,input_length,att_units])\n",
    "    attention=Attention(scoring_fun,att_units)\n",
    "    context_vector,attention_weights=attention(state_h,encoder_output)\n",
    "    assert(context_vector.shape==(batch_size,att_units) and attention_weights.shape==(batch_size,input_length,1))\n",
    "    return True\n",
    "print(grader_check_attention('dot'))\n",
    "print(grader_check_attention('general'))\n",
    "print(grader_check_attention('concat'))"
   ]
  },
  {
   "cell_type": "markdown",
   "metadata": {
    "id": "c2vD_rSQRh_k"
   },
   "source": [
    "<font color='blue'>**OneStepDecoder**</font>"
   ]
  },
  {
   "cell_type": "code",
   "execution_count": 27,
   "metadata": {
    "id": "Qj0usgj_WTSU"
   },
   "outputs": [],
   "source": [
    "class One_Step_Decoder(tf.keras.Model):\n",
    "  def __init__(self,tar_vocab_size, embedding_dim, input_length, dec_units ,score_fun ,att_units):\n",
    "    super().__init__()\n",
    "    self.vocab_size = tar_vocab_size\n",
    "    self.embedding_dim = embedding_dim\n",
    "    self.input_length = input_length\n",
    "    self.lstm_size= dec_units\n",
    "    self.scoring_function = score_fun\n",
    "    self.att_units=att_units\n",
    "\n",
    "    self.embedding = Embedding(input_dim=self.vocab_size, output_dim=self.embedding_dim, input_length=self.input_length,\n",
    "                           mask_zero=True, name=\"embedding_layer_encoder\")\n",
    "    self.lstm = LSTM(self.att_units, return_state=True, return_sequences=True, name=\"Encoder_LSTM\")\n",
    "\n",
    "    self.attention   = Attention(scoring_function = self.scoring_function , att_units = self.att_units)\n",
    "\n",
    "    #self.dense   = Dense(self.vocab_size, activation='softmax')\n",
    "    self.dense   = Dense(self.vocab_size)\n",
    "\n",
    "      # Initialize decoder embedding layer, LSTM and any other objects needed\n",
    "\n",
    "\n",
    "  def call(self,input_to_decoder, encoder_output, state_h,state_c):\n",
    "    states = [state_h,state_c]\n",
    "    input_embedd                                   = self.embedding(input_to_decoder)\n",
    "\n",
    "    context_vector, attention_weights              = self.attention(state_h,encoder_output)\n",
    "\n",
    "    #tf.concat([t1, t2], 0)\n",
    "    merged     = tf.concat([context_vector, input_embedd[:,0,:]], axis = 1)\n",
    "    #merged     = np.concatenate((context_vector, input_embedd[:,0,:]), axis = 1)\n",
    "    dimension = self.att_units + self.embedding_dim\n",
    "    merged = tf.keras.layers.Reshape((1,dimension ))(merged)\n",
    "\n",
    "    output,decoder_hidden_state,lstm_state_c = self.lstm(merged,initial_state=states)\n",
    "\n",
    "    output                               = self.dense(output)\n",
    "\n",
    "\n",
    "    return output[:,0,:],decoder_hidden_state,lstm_state_c , attention_weights, context_vector\n"
   ]
  },
  {
   "cell_type": "markdown",
   "metadata": {
    "id": "WYzMiMAiRmPp"
   },
   "source": [
    "<font color='cyan'>**Grader function - 3**</font>"
   ]
  },
  {
   "cell_type": "code",
   "execution_count": 28,
   "metadata": {
    "colab": {
     "base_uri": "https://localhost:8080/"
    },
    "id": "lhuKlUK3Rsgq",
    "outputId": "eca4ecda-144a-4fb2-c3a9-ca24513fef3a"
   },
   "outputs": [
    {
     "name": "stdout",
     "output_type": "stream",
     "text": [
      "True\n",
      "True\n",
      "True\n"
     ]
    }
   ],
   "source": [
    "def grader_onestepdecoder(score_fun):\n",
    "    \n",
    "    '''\n",
    "        tar_vocab_size: Unique words of the target language,\n",
    "        embedding_dim: output embedding dimension for each word after embedding layer,\n",
    "        dec_units: Number of lstm units in decoder,\n",
    "        att_units: Used in matrix multiplications for scoring functions in attention class,\n",
    "        input_length: Length of the target sentence,\n",
    "        batch_size\n",
    "        \n",
    "    \n",
    "    '''\n",
    "    \n",
    "    tar_vocab_size=13 \n",
    "    embedding_dim=12 \n",
    "    input_length=10\n",
    "    dec_units=16 \n",
    "    att_units=16\n",
    "    batch_size=32\n",
    "    onestepdecoder=One_Step_Decoder(tar_vocab_size, embedding_dim, input_length, dec_units ,score_fun ,att_units)\n",
    "    input_to_decoder=tf.random.uniform(shape=(batch_size,1),maxval=10,minval=0,dtype=tf.int32)\n",
    "    encoder_output=tf.random.uniform(shape=[batch_size,input_length,dec_units])\n",
    "    state_h=tf.random.uniform(shape=[batch_size,dec_units])\n",
    "    state_c=tf.random.uniform(shape=[batch_size,dec_units])\n",
    "    output,state_h,state_c,attention_weights,context_vector=onestepdecoder(input_to_decoder,encoder_output,state_h,state_c)\n",
    "    assert(output.shape==(batch_size,tar_vocab_size))\n",
    "    assert(state_h.shape==(batch_size,dec_units))\n",
    "    assert(state_c.shape==(batch_size,dec_units))\n",
    "    assert(attention_weights.shape==(batch_size,input_length,1))\n",
    "    assert(context_vector.shape==(batch_size,dec_units))\n",
    "    return True\n",
    "    \n",
    "print(grader_onestepdecoder('dot'))\n",
    "print(grader_onestepdecoder('general'))\n",
    "print(grader_onestepdecoder('concat'))"
   ]
  },
  {
   "cell_type": "markdown",
   "metadata": {
    "id": "FvNxiFj0R0Yc"
   },
   "source": [
    "<font color='blue'>**Decoder**</font>"
   ]
  },
  {
   "cell_type": "code",
   "execution_count": 29,
   "metadata": {
    "id": "_oj75o7SWXrn"
   },
   "outputs": [],
   "source": [
    "class Decoder(tf.keras.Model):\n",
    "    def __init__(self,out_vocab_size, embedding_dim, input_length, dec_units ,score_fun ,att_units):\n",
    "      super().__init__()\n",
    "      self.vocab_size = out_vocab_size\n",
    "      self.embedding_dim = embedding_dim\n",
    "      self.input_length = input_length\n",
    "      self.dec_units= dec_units\n",
    "      self.scoring_function = score_fun\n",
    "      self.att_units=att_units\n",
    "\n",
    "      self.one_step_decoder   = One_Step_Decoder(self.vocab_size, self.embedding_dim, self.input_length, self.dec_units ,self.scoring_function ,self.att_units)\n",
    "      #Intialize necessary variables and create an object from the class onestepdecoder\n",
    "\n",
    "        #tf.shape(x)[0]\n",
    "    def call(self, input_to_decoder,encoder_output,decoder_hidden_state,decoder_cell_state ):\n",
    "      #all_output = tf.TensorArray(tf.float32, size =input_to_decoder.shape[1] )\n",
    "      #all_output = tf.TensorArray(tf.float32, size =tf.shape(input_to_decoder)[1] )\n",
    "      lis = []\n",
    "\n",
    "      #for timestep in range(input_to_decoder.shape[1]):\n",
    "      #for timestep in range(tf.shape(input_to_decoder)[1] ):\n",
    "      for timestep in range(20):\n",
    "        output,state_h,state_c,attention_weights,context_vector = self.one_step_decoder(input_to_decoder[:,timestep:timestep+1],encoder_output,decoder_hidden_state,decoder_cell_state)\n",
    "\n",
    "        # Store the output in tensorarray\n",
    "        #all_output = all_output.write(timestep,output)\n",
    "        output = tf.expand_dims(output, axis=1)\n",
    "        lis.append(output)\n",
    "\n",
    "      #all_output = tf.transpose(all_output.stack(), [1,0,2])  \n",
    "      #all_output = tf.TensorArray(all_output)\n",
    "      all_output = tf.concat(lis, 1)\n",
    "\n",
    "      return all_output"
   ]
  },
  {
   "cell_type": "markdown",
   "metadata": {
    "id": "JyPyrpyoR6B8"
   },
   "source": [
    "<font color='cyan'>**Grader function - 4**</font>"
   ]
  },
  {
   "cell_type": "code",
   "execution_count": null,
   "metadata": {
    "colab": {
     "base_uri": "https://localhost:8080/"
    },
    "id": "OmcSuj56R9i_",
    "outputId": "ee5c5804-3630-4d16-b5ea-b10af70f6aa4"
   },
   "outputs": [
    {
     "name": "stdout",
     "output_type": "stream",
     "text": [
      "True\n",
      "True\n",
      "True\n"
     ]
    }
   ],
   "source": [
    "def grader_decoder(score_fun):\n",
    "    \n",
    "    '''\n",
    "        out_vocab_size: Unique words of the target language,\n",
    "        embedding_dim: output embedding dimension for each word after embedding layer,\n",
    "        dec_units: Number of lstm units in decoder,\n",
    "        att_units: Used in matrix multiplications for scoring functions in attention class,\n",
    "        input_length: Length of the target sentence,\n",
    "        batch_size\n",
    "        \n",
    "    \n",
    "    '''\n",
    "    \n",
    "    out_vocab_size=13 \n",
    "    embedding_dim=12 \n",
    "    input_length=11\n",
    "    dec_units=16 \n",
    "    att_units=16\n",
    "    batch_size=32\n",
    "    \n",
    "    target_sentences=tf.random.uniform(shape=(batch_size,input_length),maxval=10,minval=0,dtype=tf.int32)\n",
    "    encoder_output=tf.random.uniform(shape=[batch_size,input_length,dec_units])\n",
    "    state_h=tf.random.uniform(shape=[batch_size,dec_units])\n",
    "    state_c=tf.random.uniform(shape=[batch_size,dec_units])\n",
    "    \n",
    "    decoder=Decoder(out_vocab_size, embedding_dim, input_length, dec_units ,score_fun ,att_units)\n",
    "    output=decoder(target_sentences,encoder_output, state_h, state_c)\n",
    "    assert(output.shape==(batch_size,input_length,out_vocab_size))\n",
    "    return True\n",
    "print(grader_decoder('dot'))\n",
    "print(grader_decoder('general'))\n",
    "print(grader_decoder('concat'))"
   ]
  },
  {
   "cell_type": "markdown",
   "metadata": {
    "id": "2N8ExLsSSGg6"
   },
   "source": [
    "<font color='blue'>**Encoder Decoder model**</font>"
   ]
  },
  {
   "cell_type": "code",
   "execution_count": 30,
   "metadata": {
    "id": "eubTJrDGWbC1"
   },
   "outputs": [],
   "source": [
    "class encoder_decoder(tf.keras.Model):\n",
    "  def __init__(self,scoring_function,encoder_inputs_length,decoder_inputs_length,output_vocab_size):\n",
    "    super().__init__()\n",
    "    self.scoring_function = scoring_function\n",
    "    self.encoder = Encoder(inp_vocab_size=vocab_size_ita+1, embedding_size=50, input_length=encoder_inputs_length, lstm_size=256)\n",
    "    self.decoder=Decoder(out_vocab_size=vocab_size_eng+1, embedding_dim=100, input_length=decoder_inputs_length, dec_units = 256 ,score_fun = self.scoring_function ,att_units = 256)\n",
    "\n",
    "\n",
    "  \n",
    "  def call(self,data):\n",
    "    input,output = data[0], data[1]\n",
    "    initial_state=self.encoder.initialize_states(1024)\n",
    "    encoder_output, encoder_h, encoder_c = self.encoder(input,initial_state)\n",
    "    Output                               = self.decoder(output,encoder_output, encoder_h, encoder_c)\n",
    "\n",
    "    return Output"
   ]
  },
  {
   "cell_type": "markdown",
   "metadata": {
    "id": "E0OVnWpGbA3x"
   },
   "source": [
    "<font color='blue'>**Custom loss function**</font>"
   ]
  },
  {
   "cell_type": "code",
   "execution_count": 31,
   "metadata": {
    "id": "H8KDm6uJWv-d"
   },
   "outputs": [],
   "source": [
    "# Refer https://www.tensorflow.org/tutorials/text/nmt_with_attention#define_the_optimizer_and_the_loss_function\n",
    "optimizer = tf.keras.optimizers.Adam()\n",
    "loss_object = tf.keras.losses.SparseCategoricalCrossentropy(\n",
    "    from_logits=True, reduction='none')\n",
    "\n",
    "def loss_function(real, pred):\n",
    "  mask = tf.math.logical_not(tf.math.equal(real, 0))\n",
    "  loss_ = loss_object(real, pred)\n",
    "\n",
    "  mask = tf.cast(mask, dtype=loss_.dtype)\n",
    "  loss_ *= mask\n",
    "\n",
    "  return tf.reduce_mean(loss_)"
   ]
  },
  {
   "cell_type": "markdown",
   "metadata": {
    "id": "WkxbpEagbQFO"
   },
   "source": [
    "<font color='blue'>**Training**</font>"
   ]
  },
  {
   "cell_type": "markdown",
   "metadata": {
    "id": "5I2LdCPkbYJK"
   },
   "source": [
    "Implement dot function here."
   ]
  },
  {
   "cell_type": "code",
   "execution_count": 32,
   "metadata": {
    "colab": {
     "base_uri": "https://localhost:8080/"
    },
    "id": "9HVlTOsvY5VE",
    "outputId": "54fe9b5c-cb07-450d-b257-fdcc94cb887d"
   },
   "outputs": [
    {
     "name": "stdout",
     "output_type": "stream",
     "text": [
      "WARNING:tensorflow:`write_grads` will be ignored in TensorFlow 2.0 for the `TensorBoard` Callback.\n"
     ]
    }
   ],
   "source": [
    "from tensorflow.keras.callbacks import ModelCheckpoint\n",
    "import  datetime \n",
    "\n",
    "\n",
    "log_dir=\"logs\\\\fit\\\\\" + datetime.datetime.now().strftime(\"%Y%m%d-%H%M%S\")\n",
    "tensorboard_callback = tf.keras.callbacks.TensorBoard(log_dir=log_dir,histogram_freq=1, \n",
    "                                                      write_graph=True,write_grads=True)\n",
    "\n",
    "\n",
    "callback_list = [tensorboard_callback]"
   ]
  },
  {
   "cell_type": "code",
   "execution_count": 36,
   "metadata": {
    "colab": {
     "base_uri": "https://localhost:8080/"
    },
    "id": "UoL6CTN-WeJ-",
    "outputId": "3cbb7c70-62c6-4f4e-fa91-50fce0f328b3"
   },
   "outputs": [
    {
     "name": "stdout",
     "output_type": "stream",
     "text": [
      "Epoch 1/10\n",
      "268/268 [==============================] - 123s 336ms/step - loss: 1.5666 - val_loss: 0.6345\n",
      "Epoch 2/10\n",
      "268/268 [==============================] - 80s 300ms/step - loss: 0.5174 - val_loss: 0.3839\n",
      "Epoch 3/10\n",
      "268/268 [==============================] - 81s 301ms/step - loss: 0.3033 - val_loss: 0.3142\n",
      "Epoch 4/10\n",
      "268/268 [==============================] - 81s 300ms/step - loss: 0.2238 - val_loss: 0.2802\n",
      "Epoch 5/10\n",
      "268/268 [==============================] - 81s 302ms/step - loss: 0.1792 - val_loss: 0.2619\n",
      "Epoch 6/10\n",
      "268/268 [==============================] - 81s 303ms/step - loss: 0.1497 - val_loss: 0.2508\n",
      "Epoch 7/10\n",
      "268/268 [==============================] - 80s 300ms/step - loss: 0.1295 - val_loss: 0.2436\n",
      "Epoch 8/10\n",
      "268/268 [==============================] - 82s 304ms/step - loss: 0.1169 - val_loss: 0.2402\n",
      "Epoch 9/10\n",
      "268/268 [==============================] - 82s 305ms/step - loss: 0.1022 - val_loss: 0.2375\n",
      "Epoch 10/10\n",
      "268/268 [==============================] - 82s 307ms/step - loss: 0.0954 - val_loss: 0.2368\n",
      "Model: \"encoder_decoder_2\"\n",
      "_________________________________________________________________\n",
      "Layer (type)                 Output Shape              Param #   \n",
      "=================================================================\n",
      "encoder_3 (Encoder)          multiple                  1622918   \n",
      "_________________________________________________________________\n",
      "decoder_2 (Decoder)          multiple                  5205880   \n",
      "=================================================================\n",
      "Total params: 6,828,798\n",
      "Trainable params: 6,828,798\n",
      "Non-trainable params: 0\n",
      "_________________________________________________________________\n"
     ]
    }
   ],
   "source": [
    "model  = encoder_decoder(scoring_function = 'dot',encoder_inputs_length=20,decoder_inputs_length=20,output_vocab_size=vocab_size_eng)\n",
    "rms = tf.keras.optimizers.RMSprop(lr=0.01)\n",
    "reduce_lr_loss = tf.keras.callbacks.ReduceLROnPlateau(monitor='val_loss', factor=0.2, patience=1, verbose=1, min_delta=1e-4, mode='min')\n",
    "model.compile(optimizer=rms,loss=loss_function)\n",
    "train_steps=train.shape[0]//1024\n",
    "valid_steps=validation.shape[0]//1024\n",
    "model.fit(train_dataloader, steps_per_epoch=train_steps, epochs=10, validation_data=test_dataloader, validation_steps=valid_steps,callbacks = [reduce_lr_loss,callback_list])\n",
    "model.summary()"
   ]
  },
  {
   "cell_type": "markdown",
   "metadata": {
    "id": "J7Lp6OSxjRhZ"
   },
   "source": [
    "## <font color='blue'>**Inference**</font>"
   ]
  },
  {
   "cell_type": "markdown",
   "metadata": {
    "id": "Qpk5yh6ujiIA"
   },
   "source": [
    "<font color='blue'>**Plot attention weights**</font>"
   ]
  },
  {
   "cell_type": "code",
   "execution_count": 33,
   "metadata": {
    "id": "ycuALPloqrFu"
   },
   "outputs": [],
   "source": [
    "# Refer https://www.tensorflow.org/tutorials/text/nmt_with_attention\n",
    "dic_ita = dict(zip(tknizer_ita.word_index.keys(),tknizer_ita.word_index.values()))\n",
    "dic_eng = dict(zip(tknizer_eng.word_index.keys(),tknizer_eng.word_index.values()))\n",
    "eng_word = [i for i in tknizer_eng.word_index.keys()]\n",
    "def evaluate(sentence):\n",
    "  #attention_plot = np.zeros((encoder_seq[0], encoder_seq[0]))\n",
    "\n",
    "  inputs = [[dic_ita[j] for j in sentence.split()  if j in dic_ita]]\n",
    "  encoder_seq = pad_sequences(inputs, maxlen=20, dtype='int32', padding='post')\n",
    "    \n",
    "  encoder = Encoder(inp_vocab_size=vocab_size_ita+1, embedding_size=50, input_length=20, lstm_size=256)\n",
    "  initial_state=encoder.initialize_states(1)\n",
    "  enc_output, enc_state_h, enc_state_c = model.layers[0](encoder_seq,initial_state)\n",
    "\n",
    "\n",
    "  attention_plot = np.zeros((len(encoder_seq[0]), len(encoder_seq[0])))\n",
    "  words_index = []\n",
    "  cur_vec = np.ones((1, 1))\n",
    "  for i in range(len(encoder_seq[0])):\n",
    "    infe_output,state_h,state_c,attention_weights,context_vector = model.layers[1].one_step_decoder(cur_vec,enc_output,enc_state_h,enc_state_c)\n",
    "\n",
    "\n",
    "    # storing the attention weights to plot later on\n",
    "    attention_weights = tf.reshape(attention_weights, (-1, ))\n",
    "    #li.append(attention_weights)\n",
    "    attention_plot[i] = attention_weights.numpy()\n",
    "\n",
    "    #predicted_id = tf.argmax(infe_output[0]).numpy()\n",
    "\n",
    "    cur_vec = np.reshape(np.argmax(infe_output), (1, 1))\n",
    "\n",
    "    if eng_word[cur_vec[0][0] + 1 ] == '<end>':\n",
    "      break\n",
    "\n",
    "    cur_vec = np.reshape(np.argmax(infe_output), (1, 1))\n",
    "    words_index.append(cur_vec[0][0])\n",
    "\n",
    "  words = [eng_word[i+1] for i in words_index]  \n",
    "  result = ' '.join(words)\n",
    "\n",
    "\n",
    "\n",
    "  return result, sentence, attention_plot"
   ]
  },
  {
   "cell_type": "code",
   "execution_count": 34,
   "metadata": {
    "id": "DrKcQPKmq9df"
   },
   "outputs": [],
   "source": [
    "import matplotlib.ticker as ticker\n",
    "# function for plotting the attention weights\n",
    "def plot_attention(attention, sentence, predicted_sentence):\n",
    "  fig = plt.figure(figsize=(10,10))\n",
    "  ax = fig.add_subplot(1, 1, 1)\n",
    "  ax.matshow(attention, cmap='viridis')\n",
    "\n",
    "  fontdict = {'fontsize': 14}\n",
    "\n",
    "  ax.set_xticklabels([''] + sentence, fontdict=fontdict, rotation=90)\n",
    "  ax.set_yticklabels([''] + predicted_sentence, fontdict=fontdict)\n",
    "\n",
    "  ax.xaxis.set_major_locator(ticker.MultipleLocator(1))\n",
    "  ax.yaxis.set_major_locator(ticker.MultipleLocator(1))\n",
    "\n",
    "  plt.show()"
   ]
  },
  {
   "cell_type": "code",
   "execution_count": 45,
   "metadata": {
    "colab": {
     "base_uri": "https://localhost:8080/",
     "height": 635
    },
    "id": "R7SpomAHeFg3",
    "outputId": "73428b1b-c0f3-4094-9352-ce2da398c17e"
   },
   "outputs": [
    {
     "data": {
      "image/png": "[encoded data removed]",
      "text/plain": [
       "<Figure size 720x720 with 1 Axes>"
      ]
     },
     "metadata": {
      "needs_background": "light",
      "tags": []
     },
     "output_type": "display_data"
    }
   ],
   "source": [
    "result, sentence, attention_plot = evaluate('voglio vivere in una grande città')\n",
    "plot_attention(attention_plot, sentence.split(' '), result.split(' '))"
   ]
  },
  {
   "cell_type": "markdown",
   "metadata": {
    "id": "3Dkn4UXcjsQN"
   },
   "source": [
    "<font color='blue'>**Predict the sentence translation**</font>"
   ]
  },
  {
   "cell_type": "code",
   "execution_count": 35,
   "metadata": {
    "id": "4FnYnxgmrfOt"
   },
   "outputs": [],
   "source": [
    "dic_ita = dict(zip(tknizer_ita.word_index.keys(),tknizer_ita.word_index.values()))\n",
    "dic_eng = dict(zip(tknizer_eng.word_index.keys(),tknizer_eng.word_index.values()))\n",
    "def predict(input_sentence):\n",
    "\n",
    "  eng_word = [i for i in tknizer_eng.word_index.keys()]\n",
    "\n",
    "  sentences = input_sentence['italian'].values\n",
    "\n",
    "  sentence_translate = []\n",
    "  \n",
    "  for i in range(len(sentences)):\n",
    "    encoder_seq = [[dic_ita[j] for j in sentences[i].split()  if j in dic_ita]]\n",
    "    encoder_seq = pad_sequences(encoder_seq, maxlen=20, dtype='int32', padding='post')\n",
    "    \n",
    "    encoder = Encoder(inp_vocab_size=vocab_size_ita+1, embedding_size=50, input_length=20, lstm_size=256)\n",
    "    initial_state=encoder.initialize_states(1)\n",
    "    enc_output, enc_state_h, enc_state_c = model.layers[0](encoder_seq,initial_state)\n",
    "    #states_values = [enc_state_h, enc_state_c]\n",
    "\n",
    "    words_index = []\n",
    "    cur_vec = np.ones((1, 1))\n",
    "    for i in range(len(encoder_seq[0])):\n",
    "   \n",
    "      infe_output,state_h,state_c,attention_weights,context_vector = model.layers[1].one_step_decoder(cur_vec,enc_output,enc_state_h,enc_state_c)\n",
    "      #infe_output=model.layers[2](infe_output)\n",
    "      cur_vec = np.reshape(np.argmax(infe_output), (1, 1))\n",
    "      words_index.append(cur_vec[0][0])\n",
    "\n",
    "    words = [eng_word[i+1] for i in words_index]\n",
    "    complete_sentence = ' '.join(words)\n",
    "    sentence_translate.append(complete_sentence)\n",
    "\n",
    "  return sentence_translate\n",
    "\n",
    "\n"
   ]
  },
  {
   "cell_type": "markdown",
   "metadata": {
    "id": "SPGp5wxpj4RN"
   },
   "source": [
    "<font color='blue'>**Predict the sentence translation**</font>"
   ]
  },
  {
   "cell_type": "code",
   "execution_count": 44,
   "metadata": {
    "colab": {
     "base_uri": "https://localhost:8080/"
    },
    "id": "GS_GhDJlwtIZ",
    "outputId": "5c9c6687-cb28-407e-f380-9435d779944a"
   },
   "outputs": [
    {
     "name": "stderr",
     "output_type": "stream",
     "text": [
      "/usr/local/lib/python3.6/dist-packages/nltk/translate/bleu_score.py:490: UserWarning: \n",
      "Corpus/Sentence contains 0 counts of 2-gram overlaps.\n",
      "BLEU scores might be undesirable; use SmoothingFunction().\n",
      "  warnings.warn(_msg)\n"
     ]
    },
    {
     "name": "stdout",
     "output_type": "stream",
     "text": [
      "AVG BLEU score: 0.5334978478291761\n"
     ]
    }
   ],
   "source": [
    "import nltk.translate.bleu_score as bleu\n",
    "import statistics \n",
    "random_sentence = validation.sample(n = 1000, random_state = 24)\n",
    "#random_sentence = validation.head(1000)\n",
    "sen = random_sentence['english_out'].values\n",
    "sentence_translate = predict(random_sentence)\n",
    "\n",
    "score_list = []\n",
    "for i in range(1000):\n",
    "  score_list.append(bleu.sentence_bleu(sen[i][1:], sentence_translate[i][:-1]))\n",
    "score_list = np.array(score_list)\n",
    "avg_bleu = statistics.mean(score_list)\n",
    "print(f'AVG BLEU score: {avg_bleu}')"
   ]
  },
  {
   "cell_type": "markdown",
   "metadata": {
    "id": "haMzjzNXkBDR"
   },
   "source": [
    "<font color='blue'>**Repeat the same steps for General scoring function**</font>"
   ]
  },
  {
   "cell_type": "code",
   "execution_count": 36,
   "metadata": {
    "colab": {
     "base_uri": "https://localhost:8080/"
    },
    "id": "2c1_tibThUsi",
    "outputId": "820a06c0-4922-4275-d03c-33413a254f41"
   },
   "outputs": [
    {
     "name": "stdout",
     "output_type": "stream",
     "text": [
      "Epoch 1/10\n",
      "268/268 [==============================] - 409s 1s/step - loss: 1.5656 - val_loss: 0.6207\n",
      "Epoch 2/10\n",
      "268/268 [==============================] - 365s 1s/step - loss: 0.5177 - val_loss: 0.3848\n",
      "Epoch 3/10\n",
      "268/268 [==============================] - 366s 1s/step - loss: 0.3077 - val_loss: 0.3088\n",
      "Epoch 4/10\n",
      "268/268 [==============================] - 366s 1s/step - loss: 0.2244 - val_loss: 0.2755\n",
      "Epoch 5/10\n",
      "268/268 [==============================] - 364s 1s/step - loss: 0.1780 - val_loss: 0.2573\n",
      "Epoch 6/10\n",
      "268/268 [==============================] - 364s 1s/step - loss: 0.1505 - val_loss: 0.2486\n",
      "Epoch 7/10\n",
      "268/268 [==============================] - 365s 1s/step - loss: 0.1291 - val_loss: 0.2390\n",
      "Epoch 8/10\n",
      "268/268 [==============================] - 365s 1s/step - loss: 0.1144 - val_loss: 0.2361\n",
      "Epoch 9/10\n",
      "268/268 [==============================] - 365s 1s/step - loss: 0.1027 - val_loss: 0.2344\n",
      "Epoch 10/10\n",
      "268/268 [==============================] - 365s 1s/step - loss: 0.0931 - val_loss: 0.2330\n",
      "Model: \"encoder_decoder\"\n",
      "_________________________________________________________________\n",
      "Layer (type)                 Output Shape              Param #   \n",
      "=================================================================\n",
      "encoder_1 (Encoder)          multiple                  1624268   \n",
      "_________________________________________________________________\n",
      "decoder (Decoder)            multiple                  5207308   \n",
      "=================================================================\n",
      "Total params: 6,831,576\n",
      "Trainable params: 6,831,576\n",
      "Non-trainable params: 0\n",
      "_________________________________________________________________\n"
     ]
    }
   ],
   "source": [
    "model  = encoder_decoder(scoring_function = 'general',encoder_inputs_length=20,decoder_inputs_length=20,output_vocab_size=vocab_size_eng)\n",
    "#optimizer = tf.keras.optimizers.Adam()\n",
    "optimizer=tf.keras.optimizers.Adam(lr=0.01)\n",
    "rms = tf.keras.optimizers.RMSprop(lr=0.01)\n",
    "#model.compile(optimizer=optimizer,loss='sparse_categorical_crossentropy')\n",
    "reduce_lr_loss = tf.keras.callbacks.ReduceLROnPlateau(monitor='val_loss', factor=0.2, patience=1, verbose=1, min_delta=1e-4, mode='min')\n",
    "model.compile(optimizer=rms,loss=loss_function)\n",
    "#model.compile(optimizer=rms,loss=loss_object)\n",
    "train_steps=train.shape[0]//1024\n",
    "valid_steps=validation.shape[0]//1024\n",
    "#model.fit_generator(train_dataloader, steps_per_epoch=train_steps, epochs=10, validation_data=test_dataloader, validation_steps=valid_steps)\n",
    "model.fit(train_dataloader, steps_per_epoch=train_steps, epochs=10, validation_data=test_dataloader, validation_steps=valid_steps,callbacks = [reduce_lr_loss,callback_list])\n",
    "model.summary()"
   ]
  },
  {
   "cell_type": "markdown",
   "metadata": {
    "id": "e1IhdBrgQYJr"
   },
   "source": [
    "<font color='blue'>**Predict the sentence translation**</font>"
   ]
  },
  {
   "cell_type": "code",
   "execution_count": null,
   "metadata": {
    "colab": {
     "base_uri": "https://localhost:8080/",
     "height": 658
    },
    "id": "TrFjavelkBfD",
    "outputId": "9504f337-c9a7-4c2a-e0e8-8457afdaeff1"
   },
   "outputs": [
    {
     "data": {
      "image/png": "[encoded data removed]",
      "text/plain": [
       "<Figure size 720x720 with 1 Axes>"
      ]
     },
     "metadata": {
      "needs_background": "light",
      "tags": []
     },
     "output_type": "display_data"
    }
   ],
   "source": [
    "result, sentence, attention_plot = evaluate('piacere scrivetemi una lettera')\n",
    "\n",
    "plot_attention(attention_plot, sentence.split(' '), result.split(' '))"
   ]
  },
  {
   "cell_type": "code",
   "execution_count": 40,
   "metadata": {
    "colab": {
     "base_uri": "https://localhost:8080/"
    },
    "id": "NRVjtJjqF-EL",
    "outputId": "c74a81b5-ce12-4f02-bff5-cb359a850d6a"
   },
   "outputs": [
    {
     "name": "stderr",
     "output_type": "stream",
     "text": [
      "/usr/local/lib/python3.6/dist-packages/nltk/translate/bleu_score.py:490: UserWarning: \n",
      "Corpus/Sentence contains 0 counts of 2-gram overlaps.\n",
      "BLEU scores might be undesirable; use SmoothingFunction().\n",
      "  warnings.warn(_msg)\n"
     ]
    },
    {
     "name": "stdout",
     "output_type": "stream",
     "text": [
      "AVG BLEU score: 0.5556624022880127\n"
     ]
    }
   ],
   "source": [
    "import nltk.translate.bleu_score as bleu\n",
    "import statistics \n",
    "random_sentence = validation.sample(n = 1000, random_state = 24)\n",
    "#random_sentence = validation.head(1000)\n",
    "sen = random_sentence['english_out'].values\n",
    "sentence_translate = predict(random_sentence)\n",
    "\n",
    "score_list = []\n",
    "for i in range(1000):\n",
    "  score_list.append(bleu.sentence_bleu(sen[i][1:], sentence_translate[i][:-1]))\n",
    "score_list = np.array(score_list)\n",
    "avg_bleu = statistics.mean(score_list)\n",
    "print(f'AVG BLEU score: {avg_bleu}')"
   ]
  },
  {
   "cell_type": "markdown",
   "metadata": {
    "id": "hze_IsnXHXTL"
   },
   "source": [
    "<font color='blue'>**Repeat the same steps for Concat scoring function**</font>"
   ]
  },
  {
   "cell_type": "code",
   "execution_count": null,
   "metadata": {
    "colab": {
     "base_uri": "https://localhost:8080/"
    },
    "id": "tgUHyO3E9hyM",
    "outputId": "4819bcb3-4821-4545-a845-4d893c8e02fb"
   },
   "outputs": [
    {
     "name": "stdout",
     "output_type": "stream",
     "text": [
      "Epoch 1/10\n",
      "268/268 [==============================] - 143s 436ms/step - loss: 1.5179 - val_loss: 0.6286\n",
      "Epoch 2/10\n",
      "268/268 [==============================] - 111s 415ms/step - loss: 0.4973 - val_loss: 0.4113\n",
      "Epoch 3/10\n",
      "268/268 [==============================] - 112s 419ms/step - loss: 0.3044 - val_loss: 0.3513\n",
      "Epoch 4/10\n",
      "268/268 [==============================] - 114s 424ms/step - loss: 0.2233 - val_loss: 0.3222\n",
      "Epoch 5/10\n",
      "268/268 [==============================] - 115s 427ms/step - loss: 0.1763 - val_loss: 0.3100\n",
      "Epoch 6/10\n",
      "268/268 [==============================] - 114s 426ms/step - loss: 0.1461 - val_loss: 0.3064\n",
      "Epoch 7/10\n",
      "268/268 [==============================] - 115s 427ms/step - loss: 0.1273 - val_loss: 0.3013\n",
      "Epoch 8/10\n",
      "268/268 [==============================] - 114s 427ms/step - loss: 0.1142 - val_loss: 0.3028\n",
      "\n",
      "Epoch 00008: ReduceLROnPlateau reducing learning rate to 0.0019999999552965165.\n",
      "Epoch 9/10\n",
      "268/268 [==============================] - 114s 427ms/step - loss: 0.0782 - val_loss: 0.2753\n",
      "Epoch 10/10\n",
      "268/268 [==============================] - 114s 427ms/step - loss: 0.0582 - val_loss: 0.2762\n",
      "\n",
      "Epoch 00010: ReduceLROnPlateau reducing learning rate to 0.0003999999724328518.\n",
      "Model: \"encoder_decoder_3\"\n",
      "_________________________________________________________________\n",
      "Layer (type)                 Output Shape              Param #   \n",
      "=================================================================\n",
      "encoder_1159 (Encoder)       multiple                  1622818   \n",
      "_________________________________________________________________\n",
      "decoder_3 (Decoder)          multiple                  5214805   \n",
      "=================================================================\n",
      "Total params: 6,837,623\n",
      "Trainable params: 6,837,623\n",
      "Non-trainable params: 0\n",
      "_________________________________________________________________\n"
     ]
    }
   ],
   "source": [
    "model  = encoder_decoder(scoring_function = 'concat',encoder_inputs_length=20,decoder_inputs_length=20,output_vocab_size=vocab_size_eng)\n",
    "#optimizer = tf.keras.optimizers.Adam()\n",
    "optimizer=tf.keras.optimizers.Adam(lr=0.01)\n",
    "rms = tf.keras.optimizers.RMSprop(lr=0.01)\n",
    "#model.compile(optimizer=optimizer,loss='sparse_categorical_crossentropy')\n",
    "reduce_lr_loss = tf.keras.callbacks.ReduceLROnPlateau(monitor='val_loss', factor=0.2, patience=1, verbose=1, min_delta=1e-4, mode='min')\n",
    "model.compile(optimizer=rms,loss=loss_function)\n",
    "#model.compile(optimizer=rms,loss=loss_object)\n",
    "train_steps=train.shape[0]//1024\n",
    "valid_steps=validation.shape[0]//1024\n",
    "#model.fit_generator(train_dataloader, steps_per_epoch=train_steps, epochs=10, validation_data=test_dataloader, validation_steps=valid_steps)\n",
    "model.fit(train_dataloader, steps_per_epoch=train_steps, epochs=10, validation_data=test_dataloader, validation_steps=valid_steps,callbacks = [reduce_lr_loss,callback_list])\n",
    "model.summary()"
   ]
  },
  {
   "cell_type": "code",
   "execution_count": null,
   "metadata": {
    "colab": {
     "base_uri": "https://localhost:8080/",
     "height": 645
    },
    "id": "3QF-Yqf0HfF2",
    "outputId": "eb025340-dcff-40ac-97ec-98c5d781cac8"
   },
   "outputs": [
    {
     "data": {
      "image/png": "[encoded data removed]",
      "text/plain": [
       "<Figure size 720x720 with 1 Axes>"
      ]
     },
     "metadata": {
      "needs_background": "light",
      "tags": []
     },
     "output_type": "display_data"
    }
   ],
   "source": [
    "result, sentence, attention_plot = evaluate('tom ha unamica che vive a boston')\n",
    "plot_attention(attention_plot, sentence.split(' '), result.split(' '))"
   ]
  },
  {
   "cell_type": "code",
   "execution_count": null,
   "metadata": {
    "colab": {
     "base_uri": "https://localhost:8080/"
    },
    "id": "kbUF71LLM4pf",
    "outputId": "ea67e55a-20e3-49c5-c7db-f98d99dac5f5"
   },
   "outputs": [
    {
     "name": "stderr",
     "output_type": "stream",
     "text": [
      "/usr/local/lib/python3.6/dist-packages/nltk/translate/bleu_score.py:490: UserWarning: \n",
      "Corpus/Sentence contains 0 counts of 2-gram overlaps.\n",
      "BLEU scores might be undesirable; use SmoothingFunction().\n",
      "  warnings.warn(_msg)\n"
     ]
    },
    {
     "name": "stdout",
     "output_type": "stream",
     "text": [
      "AVG BLEU score: 0.5550113821123829\n"
     ]
    }
   ],
   "source": [
    "import nltk.translate.bleu_score as bleu\n",
    "import statistics \n",
    "random_sentence = validation.sample(n = 1000, random_state = 24)\n",
    "#random_sentence = validation.head(1000)\n",
    "sen = random_sentence['english_out'].values\n",
    "sentence_translate = predict(random_sentence)\n",
    "\n",
    "score_list = []\n",
    "for i in range(1000):\n",
    "  score_list.append(bleu.sentence_bleu(sen[i][1:], sentence_translate[i][:-1]))\n",
    "score_list = np.array(score_list)\n",
    "avg_bleu = statistics.mean(score_list)\n",
    "print(f'AVG BLEU score: {avg_bleu}')"
   ]
  },
  {
   "cell_type": "markdown",
   "metadata": {},
   "source": [
    "# Observation"
   ]
  },
  {
   "cell_type": "markdown",
   "metadata": {},
   "source": [
    "1. Out of three scoring funtion, validation loss is decreased in general funtion with highest BLEU score. \n",
    "2.Attention plot seems improve in general and concat funtion as compare to dot funtion.\n",
    "3.Since the complexity of models is high in all 3 cases, model is getting overfitting. "
   ]
  }
 ],
 "metadata": {
  "accelerator": "GPU",
  "colab": {
   "collapsed_sections": [],
   "name": "seq1.ipynb",
   "provenance": []
  },
  "kernelspec": {
   "display_name": "Python 3",
   "language": "python",
   "name": "python3"
  },
  "language_info": {
   "codemirror_mode": {
    "name": "ipython",
    "version": 3
   },
   "file_extension": ".py",
   "mimetype": "text/x-python",
   "name": "python",
   "nbconvert_exporter": "python",
   "pygments_lexer": "ipython3",
   "version": "3.7.5"
  }
 },
 "nbformat": 4,
 "nbformat_minor": 1
}
