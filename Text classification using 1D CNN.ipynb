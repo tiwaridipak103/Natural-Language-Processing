{
 "cells": [
  {
   "cell_type": "code",
   "execution_count": null,
   "metadata": {
    "colab": {
     "base_uri": "https://localhost:8080/"
    },
    "id": "c7EoVYDxbph2",
    "outputId": "7916012a-d410-477f-fe51-95e43a40c1eb"
   },
   "outputs": [
    {
     "name": "stdout",
     "output_type": "stream",
     "text": [
      "[nltk_data] Downloading package maxent_ne_chunker to\n",
      "[nltk_data]     /root/nltk_data...\n",
      "[nltk_data]   Package maxent_ne_chunker is already up-to-date!\n",
      "[nltk_data] Downloading package punkt to /root/nltk_data...\n",
      "[nltk_data]   Package punkt is already up-to-date!\n",
      "[nltk_data] Downloading package averaged_perceptron_tagger to\n",
      "[nltk_data]     /root/nltk_data...\n",
      "[nltk_data]   Package averaged_perceptron_tagger is already up-to-\n",
      "[nltk_data]       date!\n",
      "[nltk_data] Downloading package words to /root/nltk_data...\n",
      "[nltk_data]   Package words is already up-to-date!\n"
     ]
    }
   ],
   "source": [
    "import shutil\n",
    "import os\n",
    "import pandas as pd\n",
    "import re\n",
    "\n",
    "import nltk\n",
    "nltk.download('maxent_ne_chunker')\n",
    "nltk.download('punkt')\n",
    "nltk.download('averaged_perceptron_tagger')\n",
    "nltk.download('words')\n",
    "\n",
    "from nltk import ne_chunk, pos_tag, word_tokenize\n",
    "from nltk.tree import Tree\n",
    "\n",
    "from keras.models import Sequential\n",
    "from keras.layers import Dense\n",
    "from keras.layers.embeddings import Embedding\n",
    "from keras.layers import Dense, Activation \n",
    "from tensorflow.keras import initializers\n",
    "from sklearn.metrics import f1_score\n",
    "from tensorflow.keras.callbacks import EarlyStopping\n",
    "from tensorflow.keras.callbacks import ModelCheckpoint\n",
    "from tensorflow.keras.callbacks import LearningRateScheduler\n",
    "import numpy as np\n",
    "import tensorflow as tf\n",
    "from tensorflow.keras.preprocessing.text import one_hot\n",
    "from keras.preprocessing import sequence\n"
   ]
  },
  {
   "cell_type": "code",
   "execution_count": null,
   "metadata": {
    "id": "2XDovBHH_j_f"
   },
   "outputs": [],
   "source": [
    "files = os.listdir('documents')\n",
    "\n",
    "sentence = []\n",
    "filenames2 = []\n",
    "for file in files:\n",
    "  filenames2.append(file)\n",
    "  if(file.endswith(\"txt\")):\n",
    "    data = open('documents/'+file,'rb').read()\n",
    "    sentence.append(data)\n",
    "\n",
    "sub_file_name = []\n",
    "for i in filenames2:\n",
    "  count = 0\n",
    "  for j in i.strip(''):\n",
    "    count += 1\n",
    "    if '_' == j:\n",
    "      sub_file_name.append(i[0:count-1])\n",
    "      break\n",
    "\n",
    "unique = list(set(sub_file_name)) \n",
    "\n",
    "dic = {}\n",
    "for i in range(len(unique)):\n",
    "  dic[unique[i]] = i\n",
    "\n",
    "label = []\n",
    "for i in sub_file_name:\n",
    "  label.append(dic[i])  \n",
    "\n",
    "data = {'ID':filenames2 ,'sentence':sentence, 'label':label}      \n",
    "data_df = pd.DataFrame(data) \n",
    "data_df.to_pickle('cnn_text')"
   ]
  },
  {
   "cell_type": "code",
   "execution_count": null,
   "metadata": {
    "id": "lMAdesnQNdIL"
   },
   "outputs": [],
   "source": [
    "data = pd.read_pickle('cnn_text')"
   ]
  },
  {
   "cell_type": "code",
   "execution_count": null,
   "metadata": {
    "colab": {
     "base_uri": "https://localhost:8080/"
    },
    "id": "lR2477m-X89O",
    "outputId": "7b586686-5e6e-4c29-c86d-2a6fd0b6ef77"
   },
   "outputs": [
    {
     "name": "stdout",
     "output_type": "stream",
     "text": [
      "mantis mantis mantis\n"
     ]
    }
   ],
   "source": [
    "# for email\n",
    "emails = []\n",
    "email_list = []\n",
    "for z in range(len(data['sentence'])):\n",
    "  email = re.findall(r\"[a-zA-Z0-9\\.\\-+_]+@[a-zA-Z0-9\\.\\-+_]+\\.[a-zA-Z]+\", str(data['sentence'][z])) #source from tutorial point\n",
    "  a = []\n",
    "  for i in email:\n",
    "    a.append(i)\n",
    "  emails.append(a)  \n",
    "  filter_email = []\n",
    "  for m in a:\n",
    "    loc = 0 \n",
    "    for n, k in enumerate(m):\n",
    "      if '@' == k:\n",
    "        loc = n\n",
    "        break\n",
    "    ema = m[loc+1:]  \n",
    "    for o in ema.split(\".\"):\n",
    "      if o != 'com' and len(o) > 2:\n",
    "        filter_email.append(o)\n",
    "  email_list.append(' '.join(filter_email))   \n",
    "print(email_list[1])   \n"
   ]
  },
  {
   "cell_type": "code",
   "execution_count": null,
   "metadata": {
    "colab": {
     "base_uri": "https://localhost:8080/"
    },
    "id": "2EAfWOJOix4e",
    "outputId": "4eda9f4a-52b3-4f62-f69d-8f84b1fc760a"
   },
   "outputs": [
    {
     "data": {
      "text/plain": [
       "b'From: strom@Watson.Ibm.Com (Rob Strom)\\nSubject: Re: [soc.motss, et al.] \"Princeton axes matching funds for Boy Scouts\"\\n\\nIn article <N4HY.93Apr5120934@harder.ccr-p.ida.org>, n4hy@harder.ccr-p.ida.org (Bob McGwier) writes:\\n\\n|> [1] HOWEVER, I hate economic terrorism and political correctness\\n|> worse than I hate this policy.  \\n\\n\\n|> [2] A more effective approach is to stop donating\\n|> to ANY organizating that directly or indirectly supports gay rights issues\\n|> until they end the boycott on funding of scouts.  \\n\\nCan somebody reconcile the apparent contradiction between [1] and [2]?\\n\\n-- \\nRob Strom, strom@watson.ibm.com, (914) 784-7641\\nIBM Research, 30 Saw Mill River Road, P.O. Box 704, Yorktown Heights, NY  10598\\n'"
      ]
     },
     "execution_count": 14,
     "metadata": {
      "tags": []
     },
     "output_type": "execute_result"
    }
   ],
   "source": [
    "data['sentence'][4]"
   ]
  },
  {
   "cell_type": "code",
   "execution_count": null,
   "metadata": {
    "id": "BmUR6vbUlrNG"
   },
   "outputs": [],
   "source": [
    "#for subject\n",
    "subjects = []\n",
    "for i in range(len(data['sentence'])):\n",
    "  li = []\n",
    "  a = [j for j in data['sentence'][i].splitlines( )]\n",
    "  li.append(a[1])\n",
    "\n",
    "  ind = []\n",
    "  for k , l in enumerate(str(li[0]).strip('')):\n",
    "    if ':' == l:\n",
    "      ind.append(k+1)\n",
    "\n",
    "  z=str(li[0])[ind[len(ind)-1]:]\n",
    "  special_characters = \"'\"\"!@#$%^&*()-+?_=,<>/\"\"'\" # source from tutorial point\n",
    "  f = []\n",
    "  s = ''\n",
    "  for j , k in enumerate(z.strip()):\n",
    "    if k  not in special_characters:\n",
    "      f.append(k)\n",
    "  subjects.append(s.join(f))  "
   ]
  },
  {
   "cell_type": "code",
   "execution_count": null,
   "metadata": {
    "colab": {
     "base_uri": "https://localhost:8080/"
    },
    "id": "IPizvywxlyzU",
    "outputId": "c5c440de-b2ae-49a7-f1c3-060bfaac926a"
   },
   "outputs": [
    {
     "name": "stdout",
     "output_type": "stream",
     "text": [
      "b'From:  (Rob Strom)\\n\\n\\nIn article <>,  (Bob McGwier) writes:\\n\\n|> [1] HOWEVER, I hate economic terrorism and political correctness\\n|> worse than I hate this policy.  \\n\\n\\n|> [2] A more effective approach is to stop donating\\n|> to ANY organizating that directly or indirectly supports gay rights issues\\n|> until they end the boycott on funding of scouts.  \\n\\nCan somebody reconcile the apparent contradiction between [1] and [2]?\\n\\n-- \\nRob Strom, , (914) 784-7641\\nIBM Research, 30 Saw Mill River Road, P.O. Box 704, Yorktown Heights, NY  10598\\n'\n"
     ]
    }
   ],
   "source": [
    "#filtered sentence\n",
    "filter_sentence = []\n",
    "for i in range(len(data['sentence'])):\n",
    "  d = str(data['sentence'][i])\n",
    "  a = [j for j in data['sentence'][i].splitlines( )]\n",
    "  c = a[1]\n",
    "  h = str(c)[2:-1]\n",
    "\n",
    "  new_string = d.replace(h, \"\")\n",
    "  for k in range(len(emails[i])):\n",
    "    new_string = new_string.replace(emails[i][k], \"\")\n",
    "  filter_sentence.append(new_string)  \n",
    "\n",
    "print(filter_sentence[4])"
   ]
  },
  {
   "cell_type": "code",
   "execution_count": null,
   "metadata": {
    "id": "wR-OJbvXl8_9"
   },
   "outputs": [],
   "source": [
    "data2 = {'text':data['sentence'],'class':sub_file_name,'filtered_text':filter_sentence,'preprocessed_subject':subjects,\n",
    "         'preprocessed_emails':email_list,'label':data['label']}\n",
    "df = pd.DataFrame(data2) \n",
    "df.to_pickle('full_data')        "
   ]
  },
  {
   "cell_type": "code",
   "execution_count": null,
   "metadata": {
    "colab": {
     "base_uri": "https://localhost:8080/",
     "height": 606
    },
    "id": "ocKEojeD_B5T",
    "outputId": "66497432-108e-4375-d4a7-d2688d068c78"
   },
   "outputs": [
    {
     "data": {
      "text/html": [
       "<div>\n",
       "<style scoped>\n",
       "    .dataframe tbody tr th:only-of-type {\n",
       "        vertical-align: middle;\n",
       "    }\n",
       "\n",
       "    .dataframe tbody tr th {\n",
       "        vertical-align: top;\n",
       "    }\n",
       "\n",
       "    .dataframe thead th {\n",
       "        text-align: right;\n",
       "    }\n",
       "</style>\n",
       "<table border=\"1\" class=\"dataframe\">\n",
       "  <thead>\n",
       "    <tr style=\"text-align: right;\">\n",
       "      <th></th>\n",
       "      <th>text</th>\n",
       "      <th>class</th>\n",
       "      <th>filtered_text</th>\n",
       "      <th>preprocessed_subject</th>\n",
       "      <th>preprocessed_emails</th>\n",
       "      <th>label</th>\n",
       "    </tr>\n",
       "  </thead>\n",
       "  <tbody>\n",
       "    <tr>\n",
       "      <th>0</th>\n",
       "      <td>b'From: mathew &lt;mathew@mantis.co.uk&gt;\\nSubject:...</td>\n",
       "      <td>alt.atheism</td>\n",
       "      <td>b'From: mathew &lt;&gt;\\n\\n\\nArchive-name: atheism/r...</td>\n",
       "      <td>Atheist Resources</td>\n",
       "      <td>mantis netcom mantis</td>\n",
       "      <td>3</td>\n",
       "    </tr>\n",
       "    <tr>\n",
       "      <th>1</th>\n",
       "      <td>b'From: mathew &lt;mathew@mantis.co.uk&gt;\\nSubject:...</td>\n",
       "      <td>alt.atheism</td>\n",
       "      <td>b'From: mathew &lt;&gt;\\n\\n\\nArchive-name: atheism/i...</td>\n",
       "      <td>Introduction to Atheism</td>\n",
       "      <td>mantis mantis mantis</td>\n",
       "      <td>3</td>\n",
       "    </tr>\n",
       "    <tr>\n",
       "      <th>2</th>\n",
       "      <td>b'From: I3150101@dbstu1.rz.tu-bs.de (Benedikt ...</td>\n",
       "      <td>alt.atheism</td>\n",
       "      <td>b'From:  (Benedikt Rosenau)\\n\\n\\nIn article &lt;&gt;...</td>\n",
       "      <td>Gospel Dating</td>\n",
       "      <td>dbstu1 tu-bs mimsy umd edu umd edu</td>\n",
       "      <td>3</td>\n",
       "    </tr>\n",
       "    <tr>\n",
       "      <th>3</th>\n",
       "      <td>b'From: mathew &lt;mathew@mantis.co.uk&gt;\\nSubject:...</td>\n",
       "      <td>alt.atheism</td>\n",
       "      <td>b'From: mathew &lt;&gt;\\n\\n\\ (...until kings become ...</td>\n",
       "      <td>university violating separation of churchstate</td>\n",
       "      <td>mantis kepler unh edu</td>\n",
       "      <td>3</td>\n",
       "    </tr>\n",
       "    <tr>\n",
       "      <th>4</th>\n",
       "      <td>b'From: strom@Watson.Ibm.Com (Rob Strom)\\nSubj...</td>\n",
       "      <td>alt.atheism</td>\n",
       "      <td>b'From:  (Rob Strom)\\n\\n\\nIn article &lt;&gt;,  (Bob...</td>\n",
       "      <td>[soc.motss et al.] \"Princeton axes matching fu...</td>\n",
       "      <td>Watson Ibm Com harder ccr-p ida org harder ccr...</td>\n",
       "      <td>3</td>\n",
       "    </tr>\n",
       "    <tr>\n",
       "      <th>...</th>\n",
       "      <td>...</td>\n",
       "      <td>...</td>\n",
       "      <td>...</td>\n",
       "      <td>...</td>\n",
       "      <td>...</td>\n",
       "      <td>...</td>\n",
       "    </tr>\n",
       "    <tr>\n",
       "      <th>18823</th>\n",
       "      <td>b'From: sbuckley@fraser.sfu.ca (Stephen Buckle...</td>\n",
       "      <td>talk.religion.misc</td>\n",
       "      <td>b'From:  (Stephen Buckley)\\n\\n\\ (Paul D Boxrud...</td>\n",
       "      <td>Religion and marriage</td>\n",
       "      <td>fraser sfu magnus acs ohio-state edu</td>\n",
       "      <td>4</td>\n",
       "    </tr>\n",
       "    <tr>\n",
       "      <th>18824</th>\n",
       "      <td>b'From: bakerj@gtephx.UUCP (Jon Baker)\\nSubjec...</td>\n",
       "      <td>talk.religion.misc</td>\n",
       "      <td>b'From:  (Jon Baker)\\n\\n\\nIn article &lt;&gt;,  (Joa...</td>\n",
       "      <td>How do you know what happened</td>\n",
       "      <td>gtephx UUCP ifi uio ifi uio ncratl AtlantaGA N...</td>\n",
       "      <td>4</td>\n",
       "    </tr>\n",
       "    <tr>\n",
       "      <th>18825</th>\n",
       "      <td>b\"From: pharvey@quack.kfu.com (Paul Harvey)\\nS...</td>\n",
       "      <td>talk.religion.misc</td>\n",
       "      <td>b\"From:  (Paul Harvey)\\n\\n\\nIn article &lt;&gt; \\ (B...</td>\n",
       "      <td>Why did they behave as they did Wacoreading su...</td>\n",
       "      <td>quack kfu emx utexas edu emx utexas edu</td>\n",
       "      <td>4</td>\n",
       "    </tr>\n",
       "    <tr>\n",
       "      <th>18826</th>\n",
       "      <td>b'From: &lt;KEVXU@CUNYVM.BITNET&gt;\\nSubject: Re: In...</td>\n",
       "      <td>talk.religion.misc</td>\n",
       "      <td>b'From: &lt;&gt;\\n\\n\\n\\nIn article &lt;&gt;\\ (Gerry Palo)\\...</td>\n",
       "      <td>Info about New Age</td>\n",
       "      <td>CUNYVM BITNET digi lonestar org digi lonestar org</td>\n",
       "      <td>4</td>\n",
       "    </tr>\n",
       "    <tr>\n",
       "      <th>18827</th>\n",
       "      <td>b\"From: pharvey@quack.kfu.com (Paul Harvey)\\nS...</td>\n",
       "      <td>talk.religion.misc</td>\n",
       "      <td>b\"From:  (Paul Harvey)\\n\\n\\nIn article &lt;&gt; \\ (B...</td>\n",
       "      <td>After 2000 years etc\"</td>\n",
       "      <td>quack kfu darkside osrhe uoknor edu okcforum o...</td>\n",
       "      <td>4</td>\n",
       "    </tr>\n",
       "  </tbody>\n",
       "</table>\n",
       "<p>18828 rows × 6 columns</p>\n",
       "</div>"
      ],
      "text/plain": [
       "                                                    text  ... label\n",
       "0      b'From: mathew <mathew@mantis.co.uk>\\nSubject:...  ...     3\n",
       "1      b'From: mathew <mathew@mantis.co.uk>\\nSubject:...  ...     3\n",
       "2      b'From: I3150101@dbstu1.rz.tu-bs.de (Benedikt ...  ...     3\n",
       "3      b'From: mathew <mathew@mantis.co.uk>\\nSubject:...  ...     3\n",
       "4      b'From: strom@Watson.Ibm.Com (Rob Strom)\\nSubj...  ...     3\n",
       "...                                                  ...  ...   ...\n",
       "18823  b'From: sbuckley@fraser.sfu.ca (Stephen Buckle...  ...     4\n",
       "18824  b'From: bakerj@gtephx.UUCP (Jon Baker)\\nSubjec...  ...     4\n",
       "18825  b\"From: pharvey@quack.kfu.com (Paul Harvey)\\nS...  ...     4\n",
       "18826  b'From: <KEVXU@CUNYVM.BITNET>\\nSubject: Re: In...  ...     4\n",
       "18827  b\"From: pharvey@quack.kfu.com (Paul Harvey)\\nS...  ...     4\n",
       "\n",
       "[18828 rows x 6 columns]"
      ]
     },
     "execution_count": 7,
     "metadata": {
      "tags": []
     },
     "output_type": "execute_result"
    }
   ],
   "source": [
    "df = pd.read_pickle('full_data')\n",
    "df"
   ]
  },
  {
   "cell_type": "code",
   "execution_count": null,
   "metadata": {
    "colab": {
     "base_uri": "https://localhost:8080/",
     "height": 137
    },
    "id": "lzf0mdjhMvev",
    "outputId": "1fb04c51-fbc8-4e46-c2d1-6ec476a82533"
   },
   "outputs": [
    {
     "data": {
      "application/vnd.google.colaboratory.intrinsic+json": {
       "type": "string"
      },
      "text/plain": [
       "'b\\'From: mathew <>\\\\n\\\\n\\\\nArchive-name: atheism/resources\\\\nAlt-atheism-archive-name: resources\\\\nLast-modified: 11 December 1992\\\\nVersion: 1.0\\\\n\\\\n                              Atheist Resources\\\\n\\\\n                      Addresses of Atheist Organizations\\\\n\\\\n                                     USA\\\\n\\\\nFREEDOM FROM RELIGION FOUNDATION\\\\n\\\\nDarwin fish bumper stickers and assorted other atheist paraphernalia are\\\\navailable from the Freedom From Religion Foundation in the US.\\\\n\\\\nWrite to:  FFRF, P.O. Box 750, Madison, WI 53701.\\\\nTelephone: (608) 256-8900\\\\n\\\\nEVOLUTION DESIGNS\\\\n\\\\nEvolution Designs sell the \"Darwin fish\".  It\\\\\\'s a fish symbol, like the ones\\\\nChristians stick on their cars, but with feet and the word \"Darwin\" written\\\\ninside.  The deluxe moulded 3D plastic fish is $4.95 postpaid in the US.\\\\n\\\\nWrite to:  Evolution Designs, 7119 Laurel Canyon #4, North Hollywood,\\\\n           CA 91605.\\\\n\\\\nPeople in the San Francisco Bay area can get Darwin Fish from Lynn Gold --\\\\ntry mailing <>.  For net people who go to Lynn directly, the\\\\nprice is $4.95 per fish.\\\\n\\\\nAMERICAN ATHEIST PRESS\\\\n\\\\nAAP publish various atheist books -- critiques of the Bible, lists of\\\\nBiblical contradictions, and so on.  One such book is:\\\\n\\\\n\"The Bible Handbook\" by W.P. Ball and G.W. Foote.  American Atheist Press.\\\\n372 pp.  ISBN 0-910309-26-4, 2nd edition, 1986.  Bible contradictions,\\\\nabsurdities, atrocities, immoralities... contains Ball, Foote: \"The Bible\\\\nContradicts Itself\", AAP.  Based on the King James version of the Bible.\\\\n\\\\nWrite to:  American Atheist Press, P.O. Box 140195, Austin, TX 78714-0195.\\\\n      or:  7215 Cameron Road, Austin, TX 78752-2973.\\\\nTelephone: (512) 458-1244\\\\nFax:       (512) 467-9525\\\\n\\\\nPROMETHEUS BOOKS\\\\n\\\\nSell books including Haught\\\\\\'s \"Holy Horrors\" (see below).\\\\n\\\\nWrite to:  700 East Amherst Street, Buffalo, New York 14215.\\\\nTelephone: (716) 837-2475.\\\\n\\\\nAn alternate address (which may be newer or older) is:\\\\nPrometheus Books, 59 Glenn Drive, Buffalo, NY 14228-2197.\\\\n\\\\nAFRICAN-AMERICANS FOR HUMANISM\\\\n\\\\nAn organization promoting black secular humanism and uncovering the history of\\\\nblack freethought.  They publish a quarterly newsletter, AAH EXAMINER.\\\\n\\\\nWrite to:  Norm R. Allen, Jr., African Americans for Humanism, P.O. Box 664,\\\\n           Buffalo, NY 14226.\\\\n\\\\n                                United Kingdom\\\\n\\\\nRationalist Press Association          National Secular Society\\\\n88 Islington High Street               702 Holloway Road\\\\nLondon N1 8EW                          London N19 3NL\\\\n071 226 7251                           071 272 1266\\\\n\\\\nBritish Humanist Association           South Place Ethical Society\\\\n14 Lamb\\\\\\'s Conduit Passage              Conway Hall\\\\nLondon WC1R 4RH                        Red Lion Square\\\\n071 430 0908                           London WC1R 4RL\\\\nfax 071 430 1271                       071 831 7723\\\\n\\\\nThe National Secular Society publish \"The Freethinker\", a monthly magazine\\\\nfounded in 1881.\\\\n\\\\n                                   Germany\\\\n\\\\nIBKA e.V.\\\\nInternationaler Bund der Konfessionslosen und Atheisten\\\\nPostfach 880, D-1000 Berlin 41. Germany.\\\\n\\\\nIBKA publish a journal:\\\\nMIZ. (Materialien und Informationen zur Zeit. Politisches\\\\nJournal der Konfessionslosesn und Atheisten. Hrsg. IBKA e.V.)\\\\nMIZ-Vertrieb, Postfach 880, D-1000 Berlin 41. Germany.\\\\n\\\\nFor atheist books, write to:\\\\n\\\\nIBDK, Internationaler B\"ucherdienst der Konfessionslosen\\\\nPostfach 3005, D-3000 Hannover 1. Germany.\\\\nTelephone: 0511/211216\\\\n\\\\n\\\\n                               Books -- Fiction\\\\n\\\\nTHOMAS M. DISCH\\\\n\\\\n\"The Santa Claus Compromise\"\\\\nShort story.  The ultimate proof that Santa exists.  All characters and \\\\nevents are fictitious.  Any similarity to living or dead gods -- uh, well...\\\\n\\\\nWALTER M. MILLER, JR\\\\n\\\\n\"A Canticle for Leibowitz\"\\\\nOne gem in this post atomic doomsday novel is the monks who spent their lives\\\\ncopying blueprints from \"Saint Leibowitz\", filling the sheets of paper with\\\\nink and leaving white lines and letters.\\\\n\\\\nEDGAR PANGBORN\\\\n\\\\n\"Davy\"\\\\nPost atomic doomsday novel set in clerical states.  The church, for example,\\\\nforbids that anyone \"produce, describe or use any substance containing...\\\\natoms\". \\\\n\\\\nPHILIP K. DICK\\\\n\\\\nPhilip K. Dick Dick wrote many philosophical and thought-provoking short \\\\nstories and novels.  His stories are bizarre at times, but very approachable.\\\\nHe wrote mainly SF, but he wrote about people, truth and religion rather than\\\\ntechnology.  Although he often believed that he had met some sort of God, he\\\\nremained sceptical.  Amongst his novels, the following are of some relevance:\\\\n\\\\n\"Galactic Pot-Healer\"\\\\nA fallible alien deity summons a group of Earth craftsmen and women to a\\\\nremote planet to raise a giant cathedral from beneath the oceans.  When the\\\\ndeity begins to demand faith from the earthers, pot-healer Joe Fernwright is\\\\nunable to comply.  A polished, ironic and amusing novel.\\\\n\\\\n\"A Maze of Death\"\\\\nNoteworthy for its description of a technology-based religion.\\\\n\\\\n\"VALIS\"\\\\nThe schizophrenic hero searches for the hidden mysteries of Gnostic\\\\nChristianity after reality is fired into his brain by a pink laser beam of\\\\nunknown but possibly divine origin.  He is accompanied by his dogmatic and\\\\ndismissively atheist friend and assorted other odd characters.\\\\n\\\\n\"The Divine Invasion\"\\\\nGod invades Earth by making a young woman pregnant as she returns from\\\\nanother star system.  Unfortunately she is terminally ill, and must be\\\\nassisted by a dead man whose brain is wired to 24-hour easy listening music.\\\\n\\\\nMARGARET ATWOOD\\\\n\\\\n\"The Handmaid\\\\\\'s Tale\"\\\\nA story based on the premise that the US Congress is mysteriously\\\\nassassinated, and fundamentalists quickly take charge of the nation to set it\\\\n\"right\" again.  The book is the diary of a woman\\\\\\'s life as she tries to live\\\\nunder the new Christian theocracy.  Women\\\\\\'s right to own property is revoked,\\\\nand their bank accounts are closed; sinful luxuries are outlawed, and the\\\\nradio is only used for readings from the Bible.  Crimes are punished\\\\nretroactively: doctors who performed legal abortions in the \"old world\" are\\\\nhunted down and hanged.  Atwood\\\\\\'s writing style is difficult to get used to\\\\nat first, but the tale grows more and more chilling as it goes on.\\\\n\\\\nVARIOUS AUTHORS\\\\n\\\\n\"The Bible\"\\\\nThis somewhat dull and rambling work has often been criticized.  However, it\\\\nis probably worth reading, if only so that you\\\\\\'ll know what all the fuss is\\\\nabout.  It exists in many different versions, so make sure you get the one\\\\ntrue version.\\\\n\\\\n                             Books -- Non-fiction\\\\n\\\\nPETER DE ROSA\\\\n\\\\n\"Vicars of Christ\", Bantam Press, 1988\\\\nAlthough de Rosa seems to be Christian or even Catholic this is a very\\\\nenlighting history of papal immoralities, adulteries, fallacies etc.\\\\n(German translation: \"Gottes erste Diener. Die dunkle Seite des Papsttums\",\\\\nDroemer-Knaur, 1989)\\\\n\\\\nMICHAEL MARTIN\\\\n\\\\n\"Atheism: A Philosophical Justification\", Temple University Press,\\\\n Philadelphia, USA.\\\\nA detailed and scholarly justification of atheism.  Contains an outstanding\\\\nappendix defining terminology and usage in this (necessarily) tendentious\\\\narea.  Argues both for \"negative atheism\" (i.e. the \"non-belief in the\\\\nexistence of god(s)\") and also for \"positive atheism\" (\"the belief in the\\\\nnon-existence of god(s)\").  Includes great refutations of the most\\\\nchallenging arguments for god; particular attention is paid to refuting\\\\ncontempory theists such as Platinga and Swinburne.\\\\n541 pages. ISBN 0-87722-642-3 (hardcover; paperback also available)\\\\n\\\\n\"The Case Against Christianity\", Temple University Press\\\\nA comprehensive critique of Christianity, in which he considers\\\\nthe best contemporary defences of Christianity and (ultimately)\\\\ndemonstrates that they are unsupportable and/or incoherent.\\\\n273 pages. ISBN 0-87722-767-5\\\\n\\\\nJAMES TURNER\\\\n\\\\n\"Without God, Without Creed\", The Johns Hopkins University Press, Baltimore,\\\\n MD, USA\\\\nSubtitled \"The Origins of Unbelief in America\".  Examines the way in which\\\\nunbelief (whether agnostic or atheistic)  became a mainstream alternative\\\\nworld-view.  Focusses on the period 1770-1900, and while considering France\\\\nand Britain the emphasis is on American, and particularly New England\\\\ndevelopments.  \"Neither a religious history of secularization or atheism,\\\\nWithout God, Without Creed is, rather, the intellectual history of the fate\\\\nof a single idea, the belief that God exists.\" \\\\n316 pages. ISBN (hardcover) 0-8018-2494-X (paper) 0-8018-3407-4\\\\n\\\\nGEORGE SELDES (Editor)\\\\n\\\\n\"The great thoughts\", Ballantine Books, New York, USA\\\\nA \"dictionary of quotations\" of a different kind, concentrating on statements\\\\nand writings which, explicitly or implicitly, present the person\\\\\\'s philosophy\\\\nand world-view.  Includes obscure (and often suppressed) opinions from many\\\\npeople.  For some popular observations, traces the way in which various\\\\npeople expressed and twisted the idea over the centuries.  Quite a number of\\\\nthe quotations are derived from Cardiff\\\\\\'s \"What Great Men Think of Religion\"\\\\nand Noyes\\\\\\' \"Views of Religion\".\\\\n490 pages. ISBN (paper) 0-345-29887-X.\\\\n\\\\nRICHARD SWINBURNE\\\\n\\\\n\"The Existence of God (Revised Edition)\", Clarendon Paperbacks, Oxford\\\\nThis book is the second volume in a trilogy that began with \"The Coherence of\\\\nTheism\" (1977) and was concluded with \"Faith and Reason\" (1981).  In this\\\\nwork, Swinburne attempts to construct a series of inductive arguments for the\\\\nexistence of God.  His arguments, which are somewhat tendentious and rely\\\\nupon the imputation of late 20th century western Christian values and\\\\naesthetics to a God which is supposedly as simple as can be conceived, were\\\\ndecisively rejected in Mackie\\\\\\'s \"The Miracle of Theism\".  In the revised\\\\nedition of \"The Existence of God\", Swinburne includes an Appendix in which he\\\\nmakes a somewhat incoherent attempt to rebut Mackie.\\\\n\\\\nJ. L. MACKIE\\\\n\\\\n\"The Miracle of Theism\", Oxford\\\\nThis (posthumous) volume contains a comprehensive review of the principal\\\\narguments for and against the existence of God.  It ranges from the classical\\\\nphilosophical positions of Descartes, Anselm, Berkeley, Hume et al, through\\\\nthe moral arguments of Newman, Kant and Sidgwick, to the recent restatements\\\\nof the classical theses by Plantinga and Swinburne.  It also addresses those\\\\npositions which push the concept of God beyond the realm of the rational,\\\\nsuch as those of Kierkegaard, Kung and Philips, as well as \"replacements for\\\\nGod\" such as Lelie\\\\\\'s axiarchism.  The book is a delight to read - less\\\\nformalistic and better written than Martin\\\\\\'s works, and refreshingly direct\\\\nwhen compared with the hand-waving of Swinburne.\\\\n\\\\nJAMES A. HAUGHT\\\\n\\\\n\"Holy Horrors: An Illustrated History of Religious Murder and Madness\",\\\\n Prometheus Books\\\\nLooks at religious persecution from ancient times to the present day -- and\\\\nnot only by Christians.\\\\nLibrary of Congress Catalog Card Number 89-64079. 1990.\\\\n\\\\nNORM R. ALLEN, JR.\\\\n\\\\n\"African American Humanism: an Anthology\"\\\\nSee the listing for African Americans for Humanism above.\\\\n\\\\nGORDON STEIN\\\\n\\\\n\"An Anthology of Atheism and Rationalism\", Prometheus Books\\\\nAn anthology covering a wide range of subjects, including \\\\\\'The Devil, Evil\\\\nand Morality\\\\\\' and \\\\\\'The History of Freethought\\\\\\'.  Comprehensive bibliography.\\\\n\\\\nEDMUND D. COHEN\\\\n\\\\n\"The Mind of The Bible-Believer\", Prometheus Books\\\\nA study of why people become Christian fundamentalists, and what effect it\\\\nhas on them.\\\\n\\\\n                                Net Resources\\\\n\\\\nThere\\\\\\'s a small mail-based archive server at mantis.co.uk which carries\\\\narchives of old alt.atheism.moderated articles and assorted other files.  For\\\\nmore information, send mail to  saying\\\\n\\\\n   help\\\\n   send atheism/index\\\\n\\\\nand it will mail back a reply.\\\\n\\\\n\\\\nmathew\\\\n\\\\xff\\\\n\\''"
      ]
     },
     "execution_count": 19,
     "metadata": {
      "tags": []
     },
     "output_type": "execute_result"
    }
   ],
   "source": [
    "df['filtered_text'][0]"
   ]
  },
  {
   "cell_type": "code",
   "execution_count": null,
   "metadata": {
    "id": "YGvNHvbMYXiQ"
   },
   "outputs": [],
   "source": [
    "# https://stackoverflow.com/a/47091490/4084039\n",
    "import re\n",
    "\n",
    "def decontracted(phrase):\n",
    "    # specific\n",
    "    phrase = re.sub(r\"won't\", \"will not\", phrase)\n",
    "    phrase = re.sub(r\"can\\'t\", \"can not\", phrase)\n",
    "\n",
    "    # general\n",
    "    phrase = re.sub(r\"n\\'t\", \" not\", phrase)\n",
    "    phrase = re.sub(r\"\\'re\", \" are\", phrase)\n",
    "    phrase = re.sub(r\"\\'s\", \" is\", phrase)\n",
    "    phrase = re.sub(r\"\\'d\", \" would\", phrase)\n",
    "    phrase = re.sub(r\"\\'ll\", \" will\", phrase)\n",
    "    phrase = re.sub(r\"\\'t\", \" not\", phrase)\n",
    "    phrase = re.sub(r\"\\'ve\", \" have\", phrase)\n",
    "    phrase = re.sub(r\"\\'m\", \" am\", phrase)\n",
    "    return phrase\n",
    "\n",
    "#https://stackoverflow.com/questions/31836058/nltk-named-entity-recognition-to-a-python-list/31837224#31837224\n",
    "def chunk(string):\n",
    "  chunked = ne_chunk(pos_tag(word_tokenize(string)))\n",
    "  current_chunk = []\n",
    "  for i in chunked:\n",
    "    if type(i) == Tree:\n",
    "      c = str(i)\n",
    "      if \"PERSON\" not in c:\n",
    "        complete = \"_\".join([token for token, pos in i.leaves()])\n",
    "        f = []\n",
    "        for j in complete.split('_'):\n",
    "          if len(j) > 2:\n",
    "            f.append(j)\n",
    "        g = '_'.join(f)\n",
    "        current_chunk.append(g) \n",
    "\n",
    "    else:\n",
    "      current_chunk.append(i[0])  \n",
    "  chu = ' '.join(current_chunk)\n",
    "\n",
    "  return chu   \n",
    "\n",
    "def remove_underscore(string):\n",
    "  e = []\n",
    "  for i in string.split(' '):\n",
    "    if len(i) >=1:\n",
    "      if i[0] == '_' and i[len(i)-1] == '_':\n",
    "        e.append(i[1:(len(i)-1)])\n",
    "        continue\n",
    "      if i[0] == '_':\n",
    "        e.append(i[1:])\n",
    "        continue\n",
    "      if i[len(i)-1] == '_':\n",
    "        e.append(i[0:(len(i)-1)])\n",
    "        continue\n",
    "      else:\n",
    "        e.append(i) \n",
    "\n",
    "  return ' '.join(e)    "
   ]
  },
  {
   "cell_type": "code",
   "execution_count": null,
   "metadata": {
    "id": "rjRPrZslWMMs"
   },
   "outputs": [],
   "source": [
    "def preprocess(Input_Text):\n",
    "  preprocessed_string = []\n",
    "  for i in range(len(Input_Text)):\n",
    "    x = Input_Text[i].replace(\"from:\", \"\").replace(\"write to:\", \"\").replace('\\\\n',' ').replace('\\\\t',' ')\n",
    "    remove_char_word = lambda y: ' '.join(j for j in y.split() if ':' not in j)\n",
    "    x = remove_char_word(x)\n",
    "    #https://stackoverflow.com/questions/14596884/remove-text-between-and-in-python/14598135\n",
    "    x = re.sub(\"[\\(\\[].*?[\\)\\]]\", \"\", x)\n",
    "    x = decontracted(x)\n",
    "    #remove spacial character: https://stackoverflow.com/a/5843547/4084039\n",
    "    x = re.sub('[^A-Za-z0-9]+', ' ', x)\n",
    "    x = chunk(x)\n",
    "    #to remove digits\n",
    "    x = re.sub('[0-9]+', '', x)\n",
    "    x = remove_underscore(x)\n",
    "    x = x.lower()\n",
    "    #word length\n",
    "    h = []\n",
    "    for i in x.split(' '):\n",
    "      if len(i) <15 and len(i) > 2:\n",
    "        h.append(i)\n",
    "      else:\n",
    "        continue\n",
    "    x = ' '.join(h)\n",
    "    preprocessed_string.append(x)\n",
    "\n",
    "  return  preprocessed_string\n"
   ]
  },
  {
   "cell_type": "code",
   "execution_count": null,
   "metadata": {
    "id": "GaLRsZr7cOra"
   },
   "outputs": [],
   "source": [
    "preprocessed_text = preprocess(df['filtered_text'])"
   ]
  },
  {
   "cell_type": "code",
   "execution_count": null,
   "metadata": {
    "colab": {
     "base_uri": "https://localhost:8080/",
     "height": 120
    },
    "id": "ODuqRB_BryfY",
    "outputId": "4b8d926f-c82b-4194-897f-de1466acd018"
   },
   "outputs": [
    {
     "data": {
      "application/vnd.google.colaboratory.intrinsic+json": {
       "type": "string"
      },
      "text/plain": [
       "'some one asked recently why they when they used see they could create given size seemed imply they could but the server did not create cursors that size investigation showed that some servers will happily return any size the size the root window while others return some fixed limit more reasonable size the interesting thing that the same server binary acts differently different hardware sun with will claim cursors root window size are while sun with will stop far have also seen this behavior ncd and terminals and have been told also occurs hps actually the ncd even more liberal sizes much larger then the root winodw are gladly returned semi broken this behavior correct would really like see cursor med sitt skjegg research lokkar borni under sole vegg box boulder gjo med sitt shinn jagar borni inn'"
      ]
     },
     "execution_count": 23,
     "metadata": {
      "tags": []
     },
     "output_type": "execute_result"
    }
   ],
   "source": [
    "preprocessed_text[5000]"
   ]
  },
  {
   "cell_type": "code",
   "execution_count": null,
   "metadata": {
    "id": "d7YEKiTspml_"
   },
   "outputs": [],
   "source": [
    "preprocessed_subject = preprocess(df['preprocessed_subject'])"
   ]
  },
  {
   "cell_type": "code",
   "execution_count": null,
   "metadata": {
    "id": "0kmXLbTBpvtE"
   },
   "outputs": [],
   "source": [
    "preprocessed_email = preprocess(df['preprocessed_emails'])"
   ]
  },
  {
   "cell_type": "code",
   "execution_count": null,
   "metadata": {
    "id": "GBY1CTLaqRRl"
   },
   "outputs": [],
   "source": [
    "data3 = {'text':data['sentence'],'class':sub_file_name,'preprocessed_text':preprocessed_text,'preprocessed_subject':preprocessed_subject,\n",
    "         'preprocessed_email':preprocessed_email,'label':data['label']}\n",
    "df = pd.DataFrame(data3)\n",
    "df.to_pickle('preprocessed_data') "
   ]
  },
  {
   "cell_type": "code",
   "execution_count": null,
   "metadata": {
    "colab": {
     "base_uri": "https://localhost:8080/",
     "height": 606
    },
    "id": "CnB8HPsrs0Ex",
    "outputId": "790632f0-ee07-4b00-d4ec-f263de621a68"
   },
   "outputs": [
    {
     "data": {
      "text/html": [
       "<div>\n",
       "<style scoped>\n",
       "    .dataframe tbody tr th:only-of-type {\n",
       "        vertical-align: middle;\n",
       "    }\n",
       "\n",
       "    .dataframe tbody tr th {\n",
       "        vertical-align: top;\n",
       "    }\n",
       "\n",
       "    .dataframe thead th {\n",
       "        text-align: right;\n",
       "    }\n",
       "</style>\n",
       "<table border=\"1\" class=\"dataframe\">\n",
       "  <thead>\n",
       "    <tr style=\"text-align: right;\">\n",
       "      <th></th>\n",
       "      <th>text</th>\n",
       "      <th>class</th>\n",
       "      <th>preprocessed_text</th>\n",
       "      <th>preprocessed_subject</th>\n",
       "      <th>preprocessed_email</th>\n",
       "      <th>label</th>\n",
       "    </tr>\n",
       "  </thead>\n",
       "  <tbody>\n",
       "    <tr>\n",
       "      <th>0</th>\n",
       "      <td>b'From: mathew &lt;mathew@mantis.co.uk&gt;\\nSubject:...</td>\n",
       "      <td>alt.atheism</td>\n",
       "      <td>mathew atheism resources resources december us...</td>\n",
       "      <td>atheist resources</td>\n",
       "      <td>mantis netcom mantis</td>\n",
       "      <td>3</td>\n",
       "    </tr>\n",
       "    <tr>\n",
       "      <th>1</th>\n",
       "      <td>b'From: mathew &lt;mathew@mantis.co.uk&gt;\\nSubject:...</td>\n",
       "      <td>alt.atheism</td>\n",
       "      <td>mathew atheism introduction introduction april...</td>\n",
       "      <td>introduction atheism</td>\n",
       "      <td>mantis mantis mantis</td>\n",
       "      <td>3</td>\n",
       "    </tr>\n",
       "    <tr>\n",
       "      <th>2</th>\n",
       "      <td>b'From: I3150101@dbstu1.rz.tu-bs.de (Benedikt ...</td>\n",
       "      <td>alt.atheism</td>\n",
       "      <td>article has quite different not necessarily mo...</td>\n",
       "      <td>dating</td>\n",
       "      <td>dbstu mimsy umd edu umd edu</td>\n",
       "      <td>3</td>\n",
       "    </tr>\n",
       "    <tr>\n",
       "      <th>3</th>\n",
       "      <td>b'From: mathew &lt;mathew@mantis.co.uk&gt;\\nSubject:...</td>\n",
       "      <td>alt.atheism</td>\n",
       "      <td>mathew recently ras have been ordered post rel...</td>\n",
       "      <td>university violating separation churchstate</td>\n",
       "      <td>mantis kepler unh edu</td>\n",
       "      <td>3</td>\n",
       "    </tr>\n",
       "    <tr>\n",
       "      <th>4</th>\n",
       "      <td>b'From: strom@Watson.Ibm.Com (Rob Strom)\\nSubj...</td>\n",
       "      <td>alt.atheism</td>\n",
       "      <td>article however hate economic terrorism and po...</td>\n",
       "      <td>princeton axes matching funds for</td>\n",
       "      <td>ibm_com harder ccr ida org harder ccr ida org ...</td>\n",
       "      <td>3</td>\n",
       "    </tr>\n",
       "    <tr>\n",
       "      <th>...</th>\n",
       "      <td>...</td>\n",
       "      <td>...</td>\n",
       "      <td>...</td>\n",
       "      <td>...</td>\n",
       "      <td>...</td>\n",
       "      <td>...</td>\n",
       "    </tr>\n",
       "    <tr>\n",
       "      <th>18823</th>\n",
       "      <td>b'From: sbuckley@fraser.sfu.ca (Stephen Buckle...</td>\n",
       "      <td>talk.religion.misc</td>\n",
       "      <td>wasn not sure this was the right newsgroup pos...</td>\n",
       "      <td>religion and marriage</td>\n",
       "      <td>fraser sfu magnus acs ohio state edu</td>\n",
       "      <td>4</td>\n",
       "    </tr>\n",
       "    <tr>\n",
       "      <th>18824</th>\n",
       "      <td>b'From: bakerj@gtephx.UUCP (Jon Baker)\\nSubjec...</td>\n",
       "      <td>talk.religion.misc</td>\n",
       "      <td>article article probably not but then don not ...</td>\n",
       "      <td>how you know what happened</td>\n",
       "      <td>gtephx uucp ifi uio ifi uio ncratl atlantaga n...</td>\n",
       "      <td>4</td>\n",
       "    </tr>\n",
       "    <tr>\n",
       "      <th>18825</th>\n",
       "      <td>b\"From: pharvey@quack.kfu.com (Paul Harvey)\\nS...</td>\n",
       "      <td>talk.religion.misc</td>\n",
       "      <td>article you would like understand better the s...</td>\n",
       "      <td>why did they behave they did wacoreading sugge...</td>\n",
       "      <td>quack kfu emx utexas edu emx utexas edu</td>\n",
       "      <td>4</td>\n",
       "    </tr>\n",
       "    <tr>\n",
       "      <th>18826</th>\n",
       "      <td>b'From: &lt;KEVXU@CUNYVM.BITNET&gt;\\nSubject: Re: In...</td>\n",
       "      <td>talk.religion.misc</td>\n",
       "      <td>article the danger anti cult groups that while...</td>\n",
       "      <td>info about new age</td>\n",
       "      <td>cunyvm bitnet digi lonestar org digi lonestar org</td>\n",
       "      <td>4</td>\n",
       "    </tr>\n",
       "    <tr>\n",
       "      <th>18827</th>\n",
       "      <td>b\"From: pharvey@quack.kfu.com (Paul Harvey)\\nS...</td>\n",
       "      <td>talk.religion.misc</td>\n",
       "      <td>article once you enter here your terminal beom...</td>\n",
       "      <td>after years etc</td>\n",
       "      <td>quack kfu darkside osrhe uoknor edu okcforum o...</td>\n",
       "      <td>4</td>\n",
       "    </tr>\n",
       "  </tbody>\n",
       "</table>\n",
       "<p>18828 rows × 6 columns</p>\n",
       "</div>"
      ],
      "text/plain": [
       "                                                    text  ... label\n",
       "0      b'From: mathew <mathew@mantis.co.uk>\\nSubject:...  ...     3\n",
       "1      b'From: mathew <mathew@mantis.co.uk>\\nSubject:...  ...     3\n",
       "2      b'From: I3150101@dbstu1.rz.tu-bs.de (Benedikt ...  ...     3\n",
       "3      b'From: mathew <mathew@mantis.co.uk>\\nSubject:...  ...     3\n",
       "4      b'From: strom@Watson.Ibm.Com (Rob Strom)\\nSubj...  ...     3\n",
       "...                                                  ...  ...   ...\n",
       "18823  b'From: sbuckley@fraser.sfu.ca (Stephen Buckle...  ...     4\n",
       "18824  b'From: bakerj@gtephx.UUCP (Jon Baker)\\nSubjec...  ...     4\n",
       "18825  b\"From: pharvey@quack.kfu.com (Paul Harvey)\\nS...  ...     4\n",
       "18826  b'From: <KEVXU@CUNYVM.BITNET>\\nSubject: Re: In...  ...     4\n",
       "18827  b\"From: pharvey@quack.kfu.com (Paul Harvey)\\nS...  ...     4\n",
       "\n",
       "[18828 rows x 6 columns]"
      ]
     },
     "execution_count": 5,
     "metadata": {
      "tags": []
     },
     "output_type": "execute_result"
    }
   ],
   "source": [
    "df = pd.read_pickle('preprocessed_data')\n",
    "df"
   ]
  },
  {
   "cell_type": "code",
   "execution_count": null,
   "metadata": {
    "id": "1IxWXqittYbw"
   },
   "outputs": [],
   "source": [
    "#concatinating preprocessed_text, preprocessed_subject and preprocessed_email\n",
    "X = df['preprocessed_text'] +' '+ df['preprocessed_subject'] +' '+ df['preprocessed_email']\n",
    "Y = df['label']"
   ]
  },
  {
   "cell_type": "code",
   "execution_count": null,
   "metadata": {
    "id": "y9PJUse0WsNI"
   },
   "outputs": [],
   "source": [
    "# train test split\n",
    "from sklearn.model_selection import train_test_split\n",
    "import numpy as np\n",
    "index = index = np.arange(len(X))\n",
    "X_train, X_test, y_train, y_test, i_train, i_test = train_test_split(X, Y,index, test_size=0.25, stratify=Y)"
   ]
  },
  {
   "cell_type": "code",
   "execution_count": null,
   "metadata": {
    "colab": {
     "base_uri": "https://localhost:8080/"
    },
    "id": "rReaQozx7FZF",
    "outputId": "1ab1b3c4-70b1-43b1-977a-7784d5300f2d"
   },
   "outputs": [
    {
     "data": {
      "text/plain": [
       "(14121, 4707)"
      ]
     },
     "execution_count": 11,
     "metadata": {
      "tags": []
     },
     "output_type": "execute_result"
    }
   ],
   "source": [
    "len(X_train) , len(X_test)"
   ]
  },
  {
   "cell_type": "code",
   "execution_count": null,
   "metadata": {
    "colab": {
     "base_uri": "https://localhost:8080/"
    },
    "id": "yiepBjcgvduu",
    "outputId": "089dcc05-d9d0-456d-b466-8b433d84f51e"
   },
   "outputs": [
    {
     "name": "stdout",
     "output_type": "stream",
     "text": [
      "8806\n"
     ]
    }
   ],
   "source": [
    "li = []\n",
    "for i in X_train:\n",
    "  li.append(len(i.split(' ')))\n",
    "\n",
    "max_length = max(li)\n",
    "print(max_length)"
   ]
  },
  {
   "cell_type": "code",
   "execution_count": null,
   "metadata": {
    "colab": {
     "base_uri": "https://localhost:8080/"
    },
    "id": "dDqCtqMhpnMm",
    "outputId": "b297d088-6189-497e-ef79-3975c9a8081c"
   },
   "outputs": [
    {
     "name": "stdout",
     "output_type": "stream",
     "text": [
      "Loaded 51510 word vectors.\n",
      "Loaded 75967 word vectors.\n"
     ]
    }
   ],
   "source": [
    "#https://machinelearningmastery.com/use-word-embedding-layers-deep-learning-keras/\n",
    "from keras.preprocessing.text import Tokenizer\n",
    "t = Tokenizer(filters='!\"#$%&()*+,-./:;<=>?@[\\\\]^`{|}~\\t\\n')\n",
    "t.fit_on_texts(X_train)\n",
    "vocab_size = len(t.word_index) + 1\n",
    "# integer encode the documents\n",
    "X_train1 = t.texts_to_sequences(X_train)\n",
    "\n",
    "X_test1 = t.texts_to_sequences(X_test)\n",
    "max_length = max_length\n",
    "X_train2 = sequence.pad_sequences(X_train1, maxlen=max_length, padding='post')\n",
    "X_test2 = sequence.pad_sequences(X_test1, maxlen=max_length, padding='post')\n",
    "\n",
    "import pickle\n",
    "with open('glove_vectors', 'rb') as f:\n",
    " model = pickle.load(f)\n",
    " embeddings_index = dict(zip(model.keys(),model.values()))\n",
    " f.close()\n",
    "\n",
    "print('Loaded %s word vectors.' % len(embeddings_index))\n",
    "#create a weight matrix for words in training docs\n",
    "#each word is of 300 dimension\n",
    "embedding_matrix = np.zeros((vocab_size, 300))\n",
    "for word, i in t.word_index.items():\n",
    "    embedding_vector = embeddings_index.get(word)\n",
    "    if embedding_vector is not None:\n",
    "        embedding_matrix[i] = embedding_vector\n",
    "print('Loaded %s word vectors.' % len(embedding_matrix))  "
   ]
  },
  {
   "cell_type": "code",
   "execution_count": null,
   "metadata": {
    "colab": {
     "base_uri": "https://localhost:8080/"
    },
    "id": "GVy5sfKM3os3",
    "outputId": "dca47785-df5a-4743-f690-88e35f6069c8"
   },
   "outputs": [
    {
     "name": "stdout",
     "output_type": "stream",
     "text": [
      "8806\n"
     ]
    }
   ],
   "source": [
    "sen_length = []\n",
    "for i in X_train:\n",
    "  sen_length.append(len(i.split()))\n",
    "max_total_length = max(sen_length)\n",
    "print(max_total_length)\n"
   ]
  },
  {
   "cell_type": "code",
   "execution_count": null,
   "metadata": {
    "id": "nBGdkdYugFFE"
   },
   "outputs": [],
   "source": [
    "from sklearn import preprocessing\n",
    "y_train = np.array(y_train)\n",
    "y_test = np.array(y_test)\n",
    "label = preprocessing.LabelEncoder()\n",
    "y_train = label.fit_transform(y_train)\n",
    "y_test = label.fit_transform(y_test)\n",
    "y_train = tf.keras.utils.to_categorical(y_train)\n",
    "y_test = tf.keras.utils.to_categorical(y_test)"
   ]
  },
  {
   "cell_type": "code",
   "execution_count": null,
   "metadata": {
    "id": "asaTrfDM0RWV"
   },
   "outputs": [],
   "source": [
    "from tensorflow.keras.layers import Dense,Input,Conv1D,MaxPooling1D,Activation,Dropout,Flatten\n",
    "from tensorflow.keras.models import Model\n",
    "from keras.layers import Dense\n",
    "from keras.layers import LSTM\n",
    "from keras.layers.embeddings import Embedding\n",
    "from keras.preprocessing import sequence\n",
    "import random as rn\n",
    "import keras\n",
    "import os\n",
    "os.environ['PYTHONHASHSEED'] = '0'\n",
    "\n",
    "##https://keras.io/getting-started/faq/#how-can-i-obtain-reproducible-results-using-keras-during-development\n",
    "tf.keras.backend.clear_session()\n",
    "\n",
    "## Set the random seed values to regenerate the model.\n",
    "np.random.seed(0)\n",
    "rn.seed(0)\n",
    "\n",
    "embedding_vecor_length = 30\n",
    "\n",
    "inputs = Input(shape=(max_review_length,), dtype='int32', name='inputs')\n",
    "\n",
    "essay_embedding = Embedding(vocab_size, 300, weights=[embedding_matrix], input_length=max_length, trainable=True)(inputs)\n",
    "\n",
    "con1 = Conv1D(filters=16, kernel_size=16, activation='relu')(essay_embedding)\n",
    "con2 = Conv1D(filters=16, kernel_size=16, activation='relu')(essay_embedding)\n",
    "con3 = Conv1D(filters=16, kernel_size=16, activation='relu')(essay_embedding)\n",
    "\n",
    "combine_con1 = keras.layers.concatenate([con1, con2,con3])\n",
    "\n",
    "max_pool1 = MaxPooling1D(pool_size=2)(combine_con1)\n",
    "\n",
    "con4 = Conv1D(filters=16, kernel_size=16, activation='relu')(max_pool1)\n",
    "con5 = Conv1D(filters=16, kernel_size=16, activation='relu')(max_pool1)\n",
    "con6 = Conv1D(filters=16, kernel_size=16, activation='relu')(max_pool1)\n",
    "\n",
    "combine_con2 = keras.layers.concatenate([con4, con5,con6])\n",
    "\n",
    "max_pool2 = MaxPooling1D(pool_size=2)(combine_con2)\n",
    "\n",
    "con7 = Conv1D(filters=16, kernel_size=16, activation='relu')(max_pool2)\n",
    "\n",
    "flatten = Flatten()(con7)\n",
    "\n",
    "drop_out = Dropout(0.2)(flatten)\n",
    "\n",
    "dense1 = Dense(40, activation='relu')(drop_out)\n",
    "\n",
    "\n",
    "Out = Dense(units=20,activation='softmax')(dense1)\n",
    "\n",
    "#Creating a model\n",
    "model = Model(inputs=inputs,outputs=Out)"
   ]
  },
  {
   "cell_type": "code",
   "execution_count": null,
   "metadata": {
    "colab": {
     "base_uri": "https://localhost:8080/"
    },
    "id": "C_E-C8jAd7dD",
    "outputId": "b1502210-e37f-48ac-ed83-b47e3ad60706"
   },
   "outputs": [
    {
     "name": "stdout",
     "output_type": "stream",
     "text": [
      "Model: \"model\"\n",
      "__________________________________________________________________________________________________\n",
      "Layer (type)                    Output Shape         Param #     Connected to                     \n",
      "==================================================================================================\n",
      "inputs (InputLayer)             [(None, 8806)]       0                                            \n",
      "__________________________________________________________________________________________________\n",
      "embedding (Embedding)           (None, 8806, 300)    22790100    inputs[0][0]                     \n",
      "__________________________________________________________________________________________________\n",
      "conv1d (Conv1D)                 (None, 8791, 16)     76816       embedding[0][0]                  \n",
      "__________________________________________________________________________________________________\n",
      "conv1d_1 (Conv1D)               (None, 8791, 16)     76816       embedding[0][0]                  \n",
      "__________________________________________________________________________________________________\n",
      "conv1d_2 (Conv1D)               (None, 8791, 16)     76816       embedding[0][0]                  \n",
      "__________________________________________________________________________________________________\n",
      "concatenate (Concatenate)       (None, 8791, 48)     0           conv1d[0][0]                     \n",
      "                                                                 conv1d_1[0][0]                   \n",
      "                                                                 conv1d_2[0][0]                   \n",
      "__________________________________________________________________________________________________\n",
      "max_pooling1d (MaxPooling1D)    (None, 4395, 48)     0           concatenate[0][0]                \n",
      "__________________________________________________________________________________________________\n",
      "conv1d_3 (Conv1D)               (None, 4380, 16)     12304       max_pooling1d[0][0]              \n",
      "__________________________________________________________________________________________________\n",
      "conv1d_4 (Conv1D)               (None, 4380, 16)     12304       max_pooling1d[0][0]              \n",
      "__________________________________________________________________________________________________\n",
      "conv1d_5 (Conv1D)               (None, 4380, 16)     12304       max_pooling1d[0][0]              \n",
      "__________________________________________________________________________________________________\n",
      "concatenate_1 (Concatenate)     (None, 4380, 48)     0           conv1d_3[0][0]                   \n",
      "                                                                 conv1d_4[0][0]                   \n",
      "                                                                 conv1d_5[0][0]                   \n",
      "__________________________________________________________________________________________________\n",
      "max_pooling1d_1 (MaxPooling1D)  (None, 2190, 48)     0           concatenate_1[0][0]              \n",
      "__________________________________________________________________________________________________\n",
      "conv1d_6 (Conv1D)               (None, 2175, 16)     12304       max_pooling1d_1[0][0]            \n",
      "__________________________________________________________________________________________________\n",
      "flatten (Flatten)               (None, 34800)        0           conv1d_6[0][0]                   \n",
      "__________________________________________________________________________________________________\n",
      "dropout (Dropout)               (None, 34800)        0           flatten[0][0]                    \n",
      "__________________________________________________________________________________________________\n",
      "dense (Dense)                   (None, 40)           1392040     dropout[0][0]                    \n",
      "__________________________________________________________________________________________________\n",
      "dense_1 (Dense)                 (None, 20)           820         dense[0][0]                      \n",
      "==================================================================================================\n",
      "Total params: 24,462,624\n",
      "Trainable params: 24,462,624\n",
      "Non-trainable params: 0\n",
      "__________________________________________________________________________________________________\n"
     ]
    }
   ],
   "source": [
    "model.summary()"
   ]
  },
  {
   "cell_type": "code",
   "execution_count": null,
   "metadata": {
    "id": "Vb2_9yNtzEC-"
   },
   "outputs": [],
   "source": [
    "optimizer = tf.keras.optimizers.Adam(\n",
    "    learning_rate=0.001,\n",
    "    beta_1=0.9,\n",
    "    beta_2=0.999,\n",
    "    epsilon=1e-07,\n",
    "    amsgrad=False,\n",
    "    name=\"Adam\",\n",
    "    \n",
    ")"
   ]
  },
  {
   "cell_type": "code",
   "execution_count": null,
   "metadata": {
    "id": "CU85iCjXd_DX"
   },
   "outputs": [],
   "source": [
    "#compiling \n",
    "model.compile(optimizer=optimizer,loss='categorical_crossentropy',metrics=['accuracy'])\n"
   ]
  },
  {
   "cell_type": "code",
   "execution_count": null,
   "metadata": {
    "id": "NpjIfEPJiWqn"
   },
   "outputs": [],
   "source": [
    "from sklearn.metrics import f1_score\n",
    "from sklearn.metrics import roc_auc_score\n",
    "class f1_score_and_auc_Callback(tf.keras.callbacks.Callback):\n",
    "\n",
    "    def  on_train_begin(self,logs={}):\n",
    "      self.f1_micro=[]\n",
    "      self.auc_score=[]\n",
    "\n",
    "    def on_epoch_end(self, epoch, logs=None):\n",
    "      y_pred=self.model.predict(X_test2).round()\n",
    "      y_pred_=self.model.predict(X_test2)\n",
    "      y_true=y_test\n",
    "      score=f1_score(y_true, y_pred, average='samples')\n",
    "      Auc_score  = roc_auc_score(y_true, y_pred_)\n",
    "\n",
    "      self.f1_micro.append(score)\n",
    "      print(\" F1 micro :\",score)\n",
    "\n",
    "metrics=f1_score_and_auc_Callback()"
   ]
  },
  {
   "cell_type": "code",
   "execution_count": null,
   "metadata": {
    "colab": {
     "base_uri": "https://localhost:8080/"
    },
    "id": "OhnyQ0Tt10HB",
    "outputId": "aefecb25-5d9c-463d-9f1c-0c12181e74fa"
   },
   "outputs": [
    {
     "name": "stdout",
     "output_type": "stream",
     "text": [
      "WARNING:tensorflow:From <ipython-input-21-bdb3352f611a>:1: experimental_run_functions_eagerly (from tensorflow.python.eager.def_function) is deprecated and will be removed in a future version.\n",
      "Instructions for updating:\n",
      "Use `tf.config.run_functions_eagerly` instead of the experimental version.\n"
     ]
    }
   ],
   "source": [
    "tf.config.experimental_run_functions_eagerly(True)"
   ]
  },
  {
   "cell_type": "code",
   "execution_count": null,
   "metadata": {
    "colab": {
     "base_uri": "https://localhost:8080/"
    },
    "id": "oAAUbM-DivpH",
    "outputId": "d699c316-564d-47fd-ce63-da35c71ef2d3"
   },
   "outputs": [
    {
     "name": "stderr",
     "output_type": "stream",
     "text": [
      "/usr/local/lib/python3.6/dist-packages/tensorflow/python/data/ops/dataset_ops.py:3504: UserWarning: Even though the tf.config.experimental_run_functions_eagerly option is set, this option does not apply to tf.data functions. tf.data functions are still traced and executed as graphs.\n",
      "  \"Even though the tf.config.experimental_run_functions_eagerly \"\n"
     ]
    },
    {
     "name": "stdout",
     "output_type": "stream",
     "text": [
      "Epoch 1/15\n",
      "442/442 [==============================] - 339s 751ms/step - loss: 2.8804 - accuracy: 0.0802 - val_loss: 1.9814 - val_accuracy: 0.2902\n",
      " F1 micro : 0.07117059698321648\n",
      "Epoch 2/15\n",
      "442/442 [==============================] - 332s 752ms/step - loss: 2.2119 - accuracy: 0.2645 - val_loss: 1.8224 - val_accuracy: 0.3433\n"
     ]
    },
    {
     "name": "stderr",
     "output_type": "stream",
     "text": [
      "/usr/local/lib/python3.6/dist-packages/tensorflow/python/data/ops/dataset_ops.py:3504: UserWarning: Even though the tf.config.experimental_run_functions_eagerly option is set, this option does not apply to tf.data functions. tf.data functions are still traced and executed as graphs.\n",
      "  \"Even though the tf.config.experimental_run_functions_eagerly \"\n"
     ]
    },
    {
     "name": "stdout",
     "output_type": "stream",
     "text": [
      " F1 micro : 0.13001912045889102\n",
      "Epoch 3/15\n",
      "442/442 [==============================] - 331s 750ms/step - loss: 1.5884 - accuracy: 0.4270 - val_loss: 1.4448 - val_accuracy: 0.4793\n"
     ]
    },
    {
     "name": "stderr",
     "output_type": "stream",
     "text": [
      "/usr/local/lib/python3.6/dist-packages/tensorflow/python/data/ops/dataset_ops.py:3504: UserWarning: Even though the tf.config.experimental_run_functions_eagerly option is set, this option does not apply to tf.data functions. tf.data functions are still traced and executed as graphs.\n",
      "  \"Even though the tf.config.experimental_run_functions_eagerly \"\n"
     ]
    },
    {
     "name": "stdout",
     "output_type": "stream",
     "text": [
      " F1 micro : 0.26704907584448695\n",
      "Epoch 4/15\n",
      "442/442 [==============================] - 331s 748ms/step - loss: 0.9996 - accuracy: 0.6137 - val_loss: 1.2884 - val_accuracy: 0.5626\n"
     ]
    },
    {
     "name": "stderr",
     "output_type": "stream",
     "text": [
      "/usr/local/lib/python3.6/dist-packages/tensorflow/python/data/ops/dataset_ops.py:3504: UserWarning: Even though the tf.config.experimental_run_functions_eagerly option is set, this option does not apply to tf.data functions. tf.data functions are still traced and executed as graphs.\n",
      "  \"Even though the tf.config.experimental_run_functions_eagerly \"\n"
     ]
    },
    {
     "name": "stdout",
     "output_type": "stream",
     "text": [
      " F1 micro : 0.41470150839175696\n",
      "Epoch 5/15\n",
      "442/442 [==============================] - 330s 746ms/step - loss: 0.6886 - accuracy: 0.7380 - val_loss: 1.3111 - val_accuracy: 0.6223\n"
     ]
    },
    {
     "name": "stderr",
     "output_type": "stream",
     "text": [
      "/usr/local/lib/python3.6/dist-packages/tensorflow/python/data/ops/dataset_ops.py:3504: UserWarning: Even though the tf.config.experimental_run_functions_eagerly option is set, this option does not apply to tf.data functions. tf.data functions are still traced and executed as graphs.\n",
      "  \"Even though the tf.config.experimental_run_functions_eagerly \"\n"
     ]
    },
    {
     "name": "stdout",
     "output_type": "stream",
     "text": [
      " F1 micro : 0.5389844911833439\n",
      "Epoch 6/15\n",
      "442/442 [==============================] - 329s 745ms/step - loss: 0.5101 - accuracy: 0.8307 - val_loss: 1.3221 - val_accuracy: 0.6847\n"
     ]
    },
    {
     "name": "stderr",
     "output_type": "stream",
     "text": [
      "/usr/local/lib/python3.6/dist-packages/tensorflow/python/data/ops/dataset_ops.py:3504: UserWarning: Even though the tf.config.experimental_run_functions_eagerly option is set, this option does not apply to tf.data functions. tf.data functions are still traced and executed as graphs.\n",
      "  \"Even though the tf.config.experimental_run_functions_eagerly \"\n"
     ]
    },
    {
     "name": "stdout",
     "output_type": "stream",
     "text": [
      " F1 micro : 0.6347992351816444\n",
      "Epoch 7/15\n",
      "442/442 [==============================] - 329s 744ms/step - loss: 0.3132 - accuracy: 0.8959 - val_loss: 1.4336 - val_accuracy: 0.6913\n"
     ]
    },
    {
     "name": "stderr",
     "output_type": "stream",
     "text": [
      "/usr/local/lib/python3.6/dist-packages/tensorflow/python/data/ops/dataset_ops.py:3504: UserWarning: Even though the tf.config.experimental_run_functions_eagerly option is set, this option does not apply to tf.data functions. tf.data functions are still traced and executed as graphs.\n",
      "  \"Even though the tf.config.experimental_run_functions_eagerly \"\n"
     ]
    },
    {
     "name": "stdout",
     "output_type": "stream",
     "text": [
      " F1 micro : 0.6564690885914596\n",
      "Epoch 8/15\n",
      "442/442 [==============================] - 330s 746ms/step - loss: 0.2459 - accuracy: 0.9211 - val_loss: 1.4852 - val_accuracy: 0.7240\n"
     ]
    },
    {
     "name": "stderr",
     "output_type": "stream",
     "text": [
      "/usr/local/lib/python3.6/dist-packages/tensorflow/python/data/ops/dataset_ops.py:3504: UserWarning: Even though the tf.config.experimental_run_functions_eagerly option is set, this option does not apply to tf.data functions. tf.data functions are still traced and executed as graphs.\n",
      "  \"Even though the tf.config.experimental_run_functions_eagerly \"\n"
     ]
    },
    {
     "name": "stdout",
     "output_type": "stream",
     "text": [
      " F1 micro : 0.7051200339919269\n",
      "Epoch 9/15\n",
      "442/442 [==============================] - 329s 744ms/step - loss: 0.1612 - accuracy: 0.9456 - val_loss: 1.4244 - val_accuracy: 0.7140\n"
     ]
    },
    {
     "name": "stderr",
     "output_type": "stream",
     "text": [
      "/usr/local/lib/python3.6/dist-packages/tensorflow/python/data/ops/dataset_ops.py:3504: UserWarning: Even though the tf.config.experimental_run_functions_eagerly option is set, this option does not apply to tf.data functions. tf.data functions are still traced and executed as graphs.\n",
      "  \"Even though the tf.config.experimental_run_functions_eagerly \"\n"
     ]
    },
    {
     "name": "stdout",
     "output_type": "stream",
     "text": [
      " F1 micro : 0.6940726577437859\n"
     ]
    },
    {
     "data": {
      "text/plain": [
       "<tensorflow.python.keras.callbacks.History at 0x7fc3ad934048>"
      ]
     },
     "execution_count": 23,
     "metadata": {
      "tags": []
     },
     "output_type": "execute_result"
    }
   ],
   "source": [
    "earlyStopping = EarlyStopping(monitor='val_loss', patience=5, verbose=0, mode='min')\n",
    "best_model = ModelCheckpoint('best_model_1.h5', save_best_only=True, monitor='val_loss', mode='min')\n",
    "callback_list = [metrics,best_model,earlyStopping]\n",
    "model.fit(X_train2,y_train,epochs=9, validation_data=(X_test2,y_test),callbacks=callback_list)\n"
   ]
  },
  {
   "cell_type": "markdown",
   "metadata": {
    "id": "HIvxHA8Ql0DK"
   },
   "source": [
    "### Model-2 : Using 1D convolutions with character embedding"
   ]
  },
  {
   "cell_type": "code",
   "execution_count": null,
   "metadata": {
    "colab": {
     "base_uri": "https://localhost:8080/"
    },
    "id": "y6mQPb7bvgg9",
    "outputId": "af92296b-97b2-4603-acac-b19e667fdd31"
   },
   "outputs": [
    {
     "name": "stderr",
     "output_type": "stream",
     "text": [
      "/usr/local/lib/python3.6/dist-packages/ipykernel_launcher.py:23: VisibleDeprecationWarning: Creating an ndarray from ragged nested sequences (which is a list-or-tuple of lists-or-tuples-or ndarrays with different lengths or shapes) is deprecated. If you meant to do this, you must specify 'dtype=object' when creating the ndarray\n",
      "/usr/local/lib/python3.6/dist-packages/ipykernel_launcher.py:24: VisibleDeprecationWarning: Creating an ndarray from ragged nested sequences (which is a list-or-tuple of lists-or-tuples-or ndarrays with different lengths or shapes) is deprecated. If you meant to do this, you must specify 'dtype=object' when creating the ndarray\n"
     ]
    }
   ],
   "source": [
    "from tensorflow import keras\n",
    "from keras.preprocessing.text import Tokenizer\n",
    "import numpy as np\n",
    "\n",
    "X_train_data = []\n",
    "for i in i_train:\n",
    "  string = ''\n",
    "  for word in X_train[i].split():\n",
    "    string = string + word\n",
    "  X_train_data.append(string)\n",
    "\n",
    "X_test_data = []\n",
    "for i in i_test:\n",
    "  string = ''\n",
    "  for word in X_test[i].split():\n",
    "    string = string + word\n",
    "  X_test_data.append(string)  \n",
    "\n",
    "t = Tokenizer(filters='!\"#$%&()*+,-./:;<=>?@[\\\\]^`{|}~\\t\\n', char_level=True, oov_token=True) \n",
    "t.fit_on_texts(X_train_data)\n",
    "X_train_token = np.array(t.texts_to_sequences(X_train_data))\n",
    "X_test_token = np.array(t.texts_to_sequences(X_test_data))"
   ]
  },
  {
   "cell_type": "code",
   "execution_count": null,
   "metadata": {
    "colab": {
     "base_uri": "https://localhost:8080/"
    },
    "id": "4cdxdRRJ5-uJ",
    "outputId": "895e29a9-6ec1-45ef-cd78-475028dbb9c9"
   },
   "outputs": [
    {
     "name": "stdout",
     "output_type": "stream",
     "text": [
      "43825\n"
     ]
    }
   ],
   "source": [
    "li = []\n",
    "for concat in X_train_data:\n",
    "  li.append(len(concat))\n",
    "print(max(li))  \n"
   ]
  },
  {
   "cell_type": "code",
   "execution_count": null,
   "metadata": {
    "colab": {
     "base_uri": "https://localhost:8080/"
    },
    "id": "u8AzxM_tthUp",
    "outputId": "54059689-d23a-4c2d-c420-b432990c97dd"
   },
   "outputs": [
    {
     "data": {
      "text/plain": [
       "29"
      ]
     },
     "execution_count": 15,
     "metadata": {
      "tags": []
     },
     "output_type": "execute_result"
    }
   ],
   "source": [
    "voc_size = len(t.word_index) + 1\n",
    "voc_size"
   ]
  },
  {
   "cell_type": "code",
   "execution_count": null,
   "metadata": {
    "id": "kwwoPzUcfMyc"
   },
   "outputs": [],
   "source": [
    "X_train2 = sequence.pad_sequences(X_train_token, maxlen=43825)\n",
    "X_test2 = sequence.pad_sequences(X_test_token, maxlen=43825)\n"
   ]
  },
  {
   "cell_type": "code",
   "execution_count": null,
   "metadata": {
    "id": "mVUhX88-6wa1"
   },
   "outputs": [],
   "source": [
    "from tensorflow.keras.layers import Dense,Input,Conv1D,MaxPooling1D,Activation,Dropout,Flatten\n",
    "from tensorflow.keras.models import Model\n",
    "from keras.layers import Dense\n",
    "from keras.layers import LSTM\n",
    "from keras.layers.embeddings import Embedding\n",
    "from keras.preprocessing import sequence\n",
    "import random as rn\n",
    "import keras\n",
    "import os\n",
    "os.environ['PYTHONHASHSEED'] = '0'\n",
    "\n",
    "##https://keras.io/getting-started/faq/#how-can-i-obtain-reproducible-results-using-keras-during-development\n",
    "## Have to clear the session. If you are not clearing, Graph will create again and again and graph size will increses. \n",
    "## Varibles will also set to some value from before session\n",
    "tf.keras.backend.clear_session()\n",
    "\n",
    "## Set the random seed values to regenerate the model.\n",
    "np.random.seed(0)\n",
    "rn.seed(0)\n",
    "\n",
    "embedding_vecor_length = 30\n",
    "\n",
    "\n",
    "inputs = Input(shape=(max(li),), dtype='int32', name='inputs')\n",
    "embedding = Embedding(voc_size, embedding_vecor_length, input_length=max(li))(inputs)\n",
    "\n",
    "con1 = Conv1D(filters=16, kernel_size=16, activation='relu')(embedding)\n",
    "con2 = Conv1D(filters=16, kernel_size=16, activation='relu')(embedding)\n",
    "con3 = Conv1D(filters=16, kernel_size=16, activation='relu')(embedding)\n",
    "\n",
    "combine_con1 = keras.layers.concatenate([con1, con2,con3])\n",
    "\n",
    "max_pool1 = MaxPooling1D(pool_size=2)(combine_con1)\n",
    "\n",
    "con4 = Conv1D(filters=16, kernel_size=16, activation='relu')(max_pool1)\n",
    "con5 = Conv1D(filters=16, kernel_size=16, activation='relu')(max_pool1)\n",
    "con6 = Conv1D(filters=16, kernel_size=16, activation='relu')(max_pool1)\n",
    "\n",
    "combine_con2 = keras.layers.concatenate([con4, con5,con6])\n",
    "\n",
    "\n",
    "max_pool2 = MaxPooling1D(pool_size=2)(combine_con2)\n",
    "\n",
    "con7 = Conv1D(filters=16, kernel_size=16, activation='relu')(max_pool2)\n",
    "\n",
    "flatten = Flatten()(con7)\n",
    "\n",
    "drop_out = Dropout(0.4)(flatten)\n",
    "\n",
    "dense1 = Dense(40, activation='relu')(drop_out)\n",
    "\n",
    "Out = Dense(units=20,activation='softmax')(dense1)\n",
    "\n",
    "model = Model(inputs=inputs,outputs=Out)"
   ]
  },
  {
   "cell_type": "code",
   "execution_count": null,
   "metadata": {
    "colab": {
     "base_uri": "https://localhost:8080/"
    },
    "id": "9EujFXHE7hEz",
    "outputId": "309f5a83-abe6-48d6-87a9-8910936f239a"
   },
   "outputs": [
    {
     "name": "stderr",
     "output_type": "stream",
     "text": [
      "/usr/local/lib/python3.6/dist-packages/tensorflow/python/data/ops/dataset_ops.py:3504: UserWarning: Even though the tf.config.experimental_run_functions_eagerly option is set, this option does not apply to tf.data functions. tf.data functions are still traced and executed as graphs.\n",
      "  \"Even though the tf.config.experimental_run_functions_eagerly \"\n"
     ]
    },
    {
     "name": "stdout",
     "output_type": "stream",
     "text": [
      "Epoch 1/9\n",
      "442/442 [==============================] - 458s 1s/step - loss: 2.9851 - accuracy: 0.0585 - val_loss: 2.9257 - val_accuracy: 0.0871\n",
      " F1 micro : 0.0\n",
      "Epoch 2/9\n",
      "442/442 [==============================] - 458s 1s/step - loss: 2.8966 - accuracy: 0.0967 - val_loss: 2.6669 - val_accuracy: 0.1181\n"
     ]
    },
    {
     "name": "stderr",
     "output_type": "stream",
     "text": [
      "/usr/local/lib/python3.6/dist-packages/tensorflow/python/data/ops/dataset_ops.py:3504: UserWarning: Even though the tf.config.experimental_run_functions_eagerly option is set, this option does not apply to tf.data functions. tf.data functions are still traced and executed as graphs.\n",
      "  \"Even though the tf.config.experimental_run_functions_eagerly \"\n"
     ]
    },
    {
     "name": "stdout",
     "output_type": "stream",
     "text": [
      " F1 micro : 0.0031867431485022306\n",
      "Epoch 3/9\n",
      "442/442 [==============================] - 454s 1s/step - loss: 2.6521 - accuracy: 0.1356 - val_loss: 2.6689 - val_accuracy: 0.1419\n"
     ]
    },
    {
     "name": "stderr",
     "output_type": "stream",
     "text": [
      "/usr/local/lib/python3.6/dist-packages/tensorflow/python/data/ops/dataset_ops.py:3504: UserWarning: Even though the tf.config.experimental_run_functions_eagerly option is set, this option does not apply to tf.data functions. tf.data functions are still traced and executed as graphs.\n",
      "  \"Even though the tf.config.experimental_run_functions_eagerly \"\n"
     ]
    },
    {
     "name": "stdout",
     "output_type": "stream",
     "text": [
      " F1 micro : 0.014021669853409816\n",
      "Epoch 4/9\n",
      "442/442 [==============================] - 456s 1s/step - loss: 2.4459 - accuracy: 0.1833 - val_loss: 2.3925 - val_accuracy: 0.1863\n"
     ]
    },
    {
     "name": "stderr",
     "output_type": "stream",
     "text": [
      "/usr/local/lib/python3.6/dist-packages/tensorflow/python/data/ops/dataset_ops.py:3504: UserWarning: Even though the tf.config.experimental_run_functions_eagerly option is set, this option does not apply to tf.data functions. tf.data functions are still traced and executed as graphs.\n",
      "  \"Even though the tf.config.experimental_run_functions_eagerly \"\n"
     ]
    },
    {
     "name": "stdout",
     "output_type": "stream",
     "text": [
      " F1 micro : 0.02060760569364776\n",
      "Epoch 5/9\n",
      "442/442 [==============================] - 456s 1s/step - loss: 2.2654 - accuracy: 0.2255 - val_loss: 2.3057 - val_accuracy: 0.2182\n"
     ]
    },
    {
     "name": "stderr",
     "output_type": "stream",
     "text": [
      "/usr/local/lib/python3.6/dist-packages/tensorflow/python/data/ops/dataset_ops.py:3504: UserWarning: Even though the tf.config.experimental_run_functions_eagerly option is set, this option does not apply to tf.data functions. tf.data functions are still traced and executed as graphs.\n",
      "  \"Even though the tf.config.experimental_run_functions_eagerly \"\n"
     ]
    },
    {
     "name": "stdout",
     "output_type": "stream",
     "text": [
      " F1 micro : 0.04227745910346293\n",
      "Epoch 6/9\n",
      "442/442 [==============================] - 457s 1s/step - loss: 2.0936 - accuracy: 0.2698 - val_loss: 2.2645 - val_accuracy: 0.2411\n"
     ]
    },
    {
     "name": "stderr",
     "output_type": "stream",
     "text": [
      "/usr/local/lib/python3.6/dist-packages/tensorflow/python/data/ops/dataset_ops.py:3504: UserWarning: Even though the tf.config.experimental_run_functions_eagerly option is set, this option does not apply to tf.data functions. tf.data functions are still traced and executed as graphs.\n",
      "  \"Even though the tf.config.experimental_run_functions_eagerly \"\n"
     ]
    },
    {
     "name": "stdout",
     "output_type": "stream",
     "text": [
      " F1 micro : 0.06862120246441471\n",
      "Epoch 7/9\n",
      "442/442 [==============================] - 455s 1s/step - loss: 1.9010 - accuracy: 0.3362 - val_loss: 2.1963 - val_accuracy: 0.2779\n"
     ]
    },
    {
     "name": "stderr",
     "output_type": "stream",
     "text": [
      "/usr/local/lib/python3.6/dist-packages/tensorflow/python/data/ops/dataset_ops.py:3504: UserWarning: Even though the tf.config.experimental_run_functions_eagerly option is set, this option does not apply to tf.data functions. tf.data functions are still traced and executed as graphs.\n",
      "  \"Even though the tf.config.experimental_run_functions_eagerly \"\n"
     ]
    },
    {
     "name": "stdout",
     "output_type": "stream",
     "text": [
      " F1 micro : 0.08816656044189505\n",
      "Epoch 8/9\n",
      "442/442 [==============================] - 452s 1s/step - loss: 1.7061 - accuracy: 0.3981 - val_loss: 2.1111 - val_accuracy: 0.2979\n"
     ]
    },
    {
     "name": "stderr",
     "output_type": "stream",
     "text": [
      "/usr/local/lib/python3.6/dist-packages/tensorflow/python/data/ops/dataset_ops.py:3504: UserWarning: Even though the tf.config.experimental_run_functions_eagerly option is set, this option does not apply to tf.data functions. tf.data functions are still traced and executed as graphs.\n",
      "  \"Even though the tf.config.experimental_run_functions_eagerly \"\n"
     ]
    },
    {
     "name": "stdout",
     "output_type": "stream",
     "text": [
      " F1 micro : 0.12385808370512004\n",
      "Epoch 9/9\n",
      "442/442 [==============================] - 451s 1s/step - loss: 1.5096 - accuracy: 0.4623 - val_loss: 2.1714 - val_accuracy: 0.3185\n"
     ]
    },
    {
     "name": "stderr",
     "output_type": "stream",
     "text": [
      "/usr/local/lib/python3.6/dist-packages/tensorflow/python/data/ops/dataset_ops.py:3504: UserWarning: Even though the tf.config.experimental_run_functions_eagerly option is set, this option does not apply to tf.data functions. tf.data functions are still traced and executed as graphs.\n",
      "  \"Even though the tf.config.experimental_run_functions_eagerly \"\n"
     ]
    },
    {
     "name": "stdout",
     "output_type": "stream",
     "text": [
      " F1 micro : 0.1701720841300191\n"
     ]
    },
    {
     "data": {
      "text/plain": [
       "<tensorflow.python.keras.callbacks.History at 0x7f47302055c0>"
      ]
     },
     "execution_count": 24,
     "metadata": {
      "tags": []
     },
     "output_type": "execute_result"
    }
   ],
   "source": [
    "optimizer = tf.keras.optimizers.Adam(\n",
    "    learning_rate=0.001,\n",
    "    beta_1=0.9,\n",
    "    beta_2=0.999,\n",
    "    epsilon=1e-07,\n",
    "    amsgrad=False,\n",
    "    name=\"Adam\",\n",
    "    \n",
    ")\n",
    "\n",
    "model.compile(optimizer=optimizer,loss='categorical_crossentropy',metrics=['accuracy'])\n",
    "\n",
    "earlyStopping = EarlyStopping(monitor='val_loss', patience=5, verbose=0, mode='min')\n",
    "best_model = ModelCheckpoint('best_model_1.h5', save_best_only=True, monitor='val_loss', mode='min')\n",
    "callback_list = [metrics,best_model,earlyStopping]\n",
    "model.fit(X_train2,y_train,epochs=9, validation_data=(X_test2,y_test),callbacks=callback_list)"
   ]
  }
 ],
 "metadata": {
  "accelerator": "GPU",
  "colab": {
   "collapsed_sections": [],
   "name": "cnn.ipynb",
   "provenance": []
  },
  "kernelspec": {
   "display_name": "Python 3",
   "language": "python",
   "name": "python3"
  },
  "language_info": {
   "codemirror_mode": {
    "name": "ipython",
    "version": 3
   },
   "file_extension": ".py",
   "mimetype": "text/x-python",
   "name": "python",
   "nbconvert_exporter": "python",
   "pygments_lexer": "ipython3",
   "version": "3.7.5"
  }
 },
 "nbformat": 4,
 "nbformat_minor": 1
}
